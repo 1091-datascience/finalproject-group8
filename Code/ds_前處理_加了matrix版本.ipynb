{
  "nbformat": 4,
  "nbformat_minor": 0,
  "metadata": {
    "colab": {
      "name": "ds_前處理.ipynb",
      "provenance": [],
      "collapsed_sections": [
        "rfJDDZmYhkWw",
        "etBwZtDlhkW2",
        "MU8fRnsDhkW-",
        "eYfc80CxhkXD",
        "xVslZAWehkXH"
      ]
    },
    "kernelspec": {
      "display_name": "Python 3",
      "language": "python",
      "name": "python3"
    },
    "language_info": {
      "codemirror_mode": {
        "name": "ipython",
        "version": 3
      },
      "file_extension": ".py",
      "mimetype": "text/x-python",
      "name": "python",
      "nbconvert_exporter": "python",
      "pygments_lexer": "ipython3",
      "version": "3.7.6"
    }
  },
  "cells": [
    {
      "cell_type": "code",
      "metadata": {
        "id": "XmJ-vrgOhkWp"
      },
      "source": [
        "import numpy as np\n",
        "import pandas as pd\n",
        "import matplotlib.pyplot as plt"
      ],
      "execution_count": 1,
      "outputs": []
    },
    {
      "cell_type": "markdown",
      "metadata": {
        "id": "rfJDDZmYhkWw"
      },
      "source": [
        "## 讀取train/test資料"
      ]
    },
    {
      "cell_type": "code",
      "metadata": {
        "id": "IGX8GPAYhkWz"
      },
      "source": [
        "train=pd.read_csv('./data/sales_train.csv')\n",
        "test=pd.read_csv('./data/test.csv')"
      ],
      "execution_count": 2,
      "outputs": []
    },
    {
      "cell_type": "markdown",
      "metadata": {
        "id": "etBwZtDlhkW2"
      },
      "source": [
        "## 去處異常item_cnt_day/item_price"
      ]
    },
    {
      "cell_type": "code",
      "metadata": {
        "id": "VLzXp_SBhkW3"
      },
      "source": [
        "cnt=np.array(train[\"item_cnt_day\"])\n",
        "price=np.array(train['item_price'])"
      ],
      "execution_count": 3,
      "outputs": []
    },
    {
      "cell_type": "code",
      "metadata": {
        "id": "9qn1lOSchkW4",
        "colab": {
          "base_uri": "https://localhost:8080/"
        },
        "outputId": "6f477cab-7a87-419c-be11-43b4f169137d"
      },
      "source": [
        "len(cnt)"
      ],
      "execution_count": 4,
      "outputs": [
        {
          "output_type": "execute_result",
          "data": {
            "text/plain": [
              "2935849"
            ]
          },
          "metadata": {
            "tags": []
          },
          "execution_count": 4
        }
      ]
    },
    {
      "cell_type": "code",
      "metadata": {
        "id": "mENMZzNbhkW7",
        "colab": {
          "base_uri": "https://localhost:8080/",
          "height": 0
        },
        "outputId": "0573a58f-c600-4563-b4f7-95ccaed5bf01"
      },
      "source": [
        "plt.boxplot(cnt,showmeans=True)"
      ],
      "execution_count": 5,
      "outputs": [
        {
          "output_type": "execute_result",
          "data": {
            "text/plain": [
              "{'boxes': [<matplotlib.lines.Line2D at 0x7fc31cac16d8>],\n",
              " 'caps': [<matplotlib.lines.Line2D at 0x7fc31cad8128>,\n",
              "  <matplotlib.lines.Line2D at 0x7fc31cad84a8>],\n",
              " 'fliers': [<matplotlib.lines.Line2D at 0x7fc31cad8ef0>],\n",
              " 'means': [<matplotlib.lines.Line2D at 0x7fc31cad8ba8>],\n",
              " 'medians': [<matplotlib.lines.Line2D at 0x7fc31cad8828>],\n",
              " 'whiskers': [<matplotlib.lines.Line2D at 0x7fc31cac19e8>,\n",
              "  <matplotlib.lines.Line2D at 0x7fc31cac1d68>]}"
            ]
          },
          "metadata": {
            "tags": []
          },
          "execution_count": 5
        },
        {
          "output_type": "display_data",
          "data": {
            "image/png": "[encoded data removed]",
            "text/plain": [
              "<Figure size 432x288 with 1 Axes>"
            ]
          },
          "metadata": {
            "tags": [],
            "needs_background": "light"
          }
        }
      ]
    },
    {
      "cell_type": "code",
      "metadata": {
        "id": "TOjXwgoChkW8",
        "colab": {
          "base_uri": "https://localhost:8080/",
          "height": 0
        },
        "outputId": "c697fcca-3169-4bb5-f662-b2eb29b5e126"
      },
      "source": [
        "plt.boxplot(price,showmeans=True)"
      ],
      "execution_count": 6,
      "outputs": [
        {
          "output_type": "execute_result",
          "data": {
            "text/plain": [
              "{'boxes': [<matplotlib.lines.Line2D at 0x7fc31ca964a8>],\n",
              " 'caps': [<matplotlib.lines.Line2D at 0x7fc31c5f6e48>,\n",
              "  <matplotlib.lines.Line2D at 0x7fc31c61e208>],\n",
              " 'fliers': [<matplotlib.lines.Line2D at 0x7fc31c61ec50>],\n",
              " 'means': [<matplotlib.lines.Line2D at 0x7fc31c61e908>],\n",
              " 'medians': [<matplotlib.lines.Line2D at 0x7fc31c61e588>],\n",
              " 'whiskers': [<matplotlib.lines.Line2D at 0x7fc31c5f6748>,\n",
              "  <matplotlib.lines.Line2D at 0x7fc31c5f6ac8>]}"
            ]
          },
          "metadata": {
            "tags": []
          },
          "execution_count": 6
        },
        {
          "output_type": "display_data",
          "data": {
            "image/png": "[encoded data removed]",
            "text/plain": [
              "<Figure size 432x288 with 1 Axes>"
            ]
          },
          "metadata": {
            "tags": [],
            "needs_background": "light"
          }
        }
      ]
    },
    {
      "cell_type": "code",
      "metadata": {
        "id": "9hclgC5DhkW9"
      },
      "source": [
        "train = train[train.item_cnt_day<1000]\n",
        "train = train[train.item_price<100000]"
      ],
      "execution_count": 7,
      "outputs": []
    },
    {
      "cell_type": "markdown",
      "metadata": {
        "id": "MU8fRnsDhkW-"
      },
      "source": [
        "## 去除cnt/price 負值"
      ]
    },
    {
      "cell_type": "code",
      "metadata": {
        "id": "uglTLxiVhkW_"
      },
      "source": [
        "train.loc[train.item_cnt_day < 0, \"item_cnt_day\"] = 0"
      ],
      "execution_count": 8,
      "outputs": []
    },
    {
      "cell_type": "code",
      "metadata": {
        "id": "5SjJb_ZBhkXC"
      },
      "source": [
        "train = train[train.item_price > 0].reset_index(drop = True)"
      ],
      "execution_count": 9,
      "outputs": []
    },
    {
      "cell_type": "markdown",
      "metadata": {
        "id": "eYfc80CxhkXD"
      },
      "source": [
        "## 相同shop處理"
      ]
    },
    {
      "cell_type": "code",
      "metadata": {
        "id": "9GTobaTphkXE"
      },
      "source": [
        "shops = pd.read_csv('./data/shops.csv')\n"
      ],
      "execution_count": 10,
      "outputs": []
    },
    {
      "cell_type": "code",
      "metadata": {
        "id": "pvVMzapNhkXF"
      },
      "source": [
        "train.loc[train.shop_id == 0, 'shop_id'] = 57\n",
        "test.loc[test.shop_id == 0, 'shop_id'] = 57\n",
        "\n",
        "train.loc[train.shop_id == 1, 'shop_id'] = 58\n",
        "test.loc[test.shop_id == 1, 'shop_id'] = 58\n",
        "\n",
        "train.loc[train.shop_id == 10, 'shop_id'] = 11\n",
        "test.loc[test.shop_id == 10, 'shop_id'] = 11\n",
        "\n",
        "train.loc[train.shop_id == 39, \"shop_id\"] = 40\n",
        "test.loc[test.shop_id == 39, \"shop_id\"] = 40"
      ],
      "execution_count": 11,
      "outputs": []
    },
    {
      "cell_type": "markdown",
      "metadata": {
        "id": "xVslZAWehkXH"
      },
      "source": [
        "## shop劃分為city和category"
      ]
    },
    {
      "cell_type": "code",
      "metadata": {
        "id": "Qb626HJXhkXH",
        "colab": {
          "base_uri": "https://localhost:8080/",
          "height": 0
        },
        "outputId": "36d95523-f00a-4b6b-9866-eacf7e606af0"
      },
      "source": [
        "shops[shops.shop_id == 46]"
      ],
      "execution_count": 12,
      "outputs": [
        {
          "output_type": "execute_result",
          "data": {
            "text/html": [
              "<div>\n",
              "<style scoped>\n",
              "    .dataframe tbody tr th:only-of-type {\n",
              "        vertical-align: middle;\n",
              "    }\n",
              "\n",
              "    .dataframe tbody tr th {\n",
              "        vertical-align: top;\n",
              "    }\n",
              "\n",
              "    .dataframe thead th {\n",
              "        text-align: right;\n",
              "    }\n",
              "</style>\n",
              "<table border=\"1\" class=\"dataframe\">\n",
              "  <thead>\n",
              "    <tr style=\"text-align: right;\">\n",
              "      <th></th>\n",
              "      <th>shop_name</th>\n",
              "      <th>shop_id</th>\n",
              "    </tr>\n",
              "  </thead>\n",
              "  <tbody>\n",
              "    <tr>\n",
              "      <th>46</th>\n",
              "      <td>Сергиев Посад ТЦ \"7Я\"</td>\n",
              "      <td>46</td>\n",
              "    </tr>\n",
              "  </tbody>\n",
              "</table>\n",
              "</div>"
            ],
            "text/plain": [
              "                shop_name  shop_id\n",
              "46  Сергиев Посад ТЦ \"7Я\"       46"
            ]
          },
          "metadata": {
            "tags": []
          },
          "execution_count": 12
        }
      ]
    },
    {
      "cell_type": "code",
      "metadata": {
        "id": "xVPuqGmohkXI"
      },
      "source": [
        "shops.loc[ shops.shop_name == 'Сергиев Посад ТЦ \"7Я\"',\"shop_name\" ] = 'СергиевПосад ТЦ \"7Я\"'"
      ],
      "execution_count": 13,
      "outputs": []
    },
    {
      "cell_type": "code",
      "metadata": {
        "id": "mnqjYefqhkXI"
      },
      "source": [
        "shops[\"city\"] = shops.shop_name.str.split(\" \").map( lambda x: x[0] )\n",
        "shops[\"category\"] = shops.shop_name.str.split(\" \").map( lambda x: x[1] )"
      ],
      "execution_count": 14,
      "outputs": []
    },
    {
      "cell_type": "code",
      "metadata": {
        "id": "5o2m3OFHhkXJ"
      },
      "source": [
        "shops.loc[shops.city == \"!Якутск\", \"city\"] = \"Якутск\""
      ],
      "execution_count": 15,
      "outputs": []
    },
    {
      "cell_type": "code",
      "metadata": {
        "colab": {
          "base_uri": "https://localhost:8080/",
          "height": 0
        },
        "id": "ukF3Tg6ihkXK",
        "outputId": "8878c1e7-e08b-4e1c-cf18-f1dbbd9a6c19"
      },
      "source": [
        "shops.head()"
      ],
      "execution_count": 16,
      "outputs": [
        {
          "output_type": "execute_result",
          "data": {
            "text/html": [
              "<div>\n",
              "<style scoped>\n",
              "    .dataframe tbody tr th:only-of-type {\n",
              "        vertical-align: middle;\n",
              "    }\n",
              "\n",
              "    .dataframe tbody tr th {\n",
              "        vertical-align: top;\n",
              "    }\n",
              "\n",
              "    .dataframe thead th {\n",
              "        text-align: right;\n",
              "    }\n",
              "</style>\n",
              "<table border=\"1\" class=\"dataframe\">\n",
              "  <thead>\n",
              "    <tr style=\"text-align: right;\">\n",
              "      <th></th>\n",
              "      <th>shop_name</th>\n",
              "      <th>shop_id</th>\n",
              "      <th>city</th>\n",
              "      <th>category</th>\n",
              "    </tr>\n",
              "  </thead>\n",
              "  <tbody>\n",
              "    <tr>\n",
              "      <th>0</th>\n",
              "      <td>!Якутск Орджоникидзе, 56 фран</td>\n",
              "      <td>0</td>\n",
              "      <td>Якутск</td>\n",
              "      <td>Орджоникидзе,</td>\n",
              "    </tr>\n",
              "    <tr>\n",
              "      <th>1</th>\n",
              "      <td>!Якутск ТЦ \"Центральный\" фран</td>\n",
              "      <td>1</td>\n",
              "      <td>Якутск</td>\n",
              "      <td>ТЦ</td>\n",
              "    </tr>\n",
              "    <tr>\n",
              "      <th>2</th>\n",
              "      <td>Адыгея ТЦ \"Мега\"</td>\n",
              "      <td>2</td>\n",
              "      <td>Адыгея</td>\n",
              "      <td>ТЦ</td>\n",
              "    </tr>\n",
              "    <tr>\n",
              "      <th>3</th>\n",
              "      <td>Балашиха ТРК \"Октябрь-Киномир\"</td>\n",
              "      <td>3</td>\n",
              "      <td>Балашиха</td>\n",
              "      <td>ТРК</td>\n",
              "    </tr>\n",
              "    <tr>\n",
              "      <th>4</th>\n",
              "      <td>Волжский ТЦ \"Волга Молл\"</td>\n",
              "      <td>4</td>\n",
              "      <td>Волжский</td>\n",
              "      <td>ТЦ</td>\n",
              "    </tr>\n",
              "  </tbody>\n",
              "</table>\n",
              "</div>"
            ],
            "text/plain": [
              "                        shop_name  shop_id      city       category\n",
              "0   !Якутск Орджоникидзе, 56 фран        0    Якутск  Орджоникидзе,\n",
              "1   !Якутск ТЦ \"Центральный\" фран        1    Якутск             ТЦ\n",
              "2                Адыгея ТЦ \"Мега\"        2    Адыгея             ТЦ\n",
              "3  Балашиха ТРК \"Октябрь-Киномир\"        3  Балашиха            ТРК\n",
              "4        Волжский ТЦ \"Волга Молл\"        4  Волжский             ТЦ"
            ]
          },
          "metadata": {
            "tags": []
          },
          "execution_count": 16
        }
      ]
    },
    {
      "cell_type": "code",
      "metadata": {
        "colab": {
          "base_uri": "https://localhost:8080/"
        },
        "id": "qoXVns8hhkXK",
        "outputId": "676ee96b-233c-490c-d0eb-1c718394b4d1"
      },
      "source": [
        "shops.category.unique()"
      ],
      "execution_count": 17,
      "outputs": [
        {
          "output_type": "execute_result",
          "data": {
            "text/plain": [
              "array(['Орджоникидзе,', 'ТЦ', 'ТРК', 'ТРЦ', '(Плехановская,', 'Торговля',\n",
              "       'ул.', 'ЧС', '\"Распродажа\"', 'МТРЦ', 'Магазин', 'ТК', 'склад'],\n",
              "      dtype=object)"
            ]
          },
          "metadata": {
            "tags": []
          },
          "execution_count": 17
        }
      ]
    },
    {
      "cell_type": "code",
      "metadata": {
        "colab": {
          "base_uri": "https://localhost:8080/"
        },
        "id": "u9fsnHL8hkXM",
        "scrolled": true,
        "outputId": "306a664d-4f20-428d-d2a4-57071b86a64f"
      },
      "source": [
        "# 新設立一個空清單，「shops」資料集中「category」欄位中的資料僅寫入出現頻率較高的資料(在此設為4)於新清單內\n",
        "category = []\n",
        "for cat in shops.category.unique():\n",
        "    print(cat, len(shops[shops.category == cat]) )\n",
        "    if len(shops[shops.category == cat]) > 3:\n",
        "        category.append(cat)\n",
        "# 將出現頻率較低者放入\"etc\"內\n",
        "shops.category = shops.category.apply( lambda x: x if (x in category) else \"etc\" )"
      ],
      "execution_count": 18,
      "outputs": [
        {
          "output_type": "stream",
          "text": [
            "Орджоникидзе, 2\n",
            "ТЦ 28\n",
            "ТРК 5\n",
            "ТРЦ 11\n",
            "(Плехановская, 1\n",
            "Торговля 1\n",
            "ул. 2\n",
            "ЧС 1\n",
            "\"Распродажа\" 1\n",
            "МТРЦ 1\n",
            "Магазин 1\n",
            "ТК 5\n",
            "склад 1\n"
          ],
          "name": "stdout"
        }
      ]
    },
    {
      "cell_type": "code",
      "metadata": {
        "id": "K8tbknkahkXM"
      },
      "source": [
        "#shops.head(5)"
      ],
      "execution_count": 19,
      "outputs": []
    },
    {
      "cell_type": "code",
      "metadata": {
        "id": "jsFICdyThkXN"
      },
      "source": [
        "from sklearn.preprocessing import LabelEncoder\n",
        "shops[\"shop_category\"] = LabelEncoder().fit_transform( shops.category )\n",
        "shops[\"shop_city\"] = LabelEncoder().fit_transform( shops.city )\n",
        "shops = shops[[\"shop_id\", \"shop_category\", \"shop_city\"]]"
      ],
      "execution_count": 20,
      "outputs": []
    },
    {
      "cell_type": "code",
      "metadata": {
        "colab": {
          "base_uri": "https://localhost:8080/",
          "height": 0
        },
        "id": "1yaOglhchkXR",
        "outputId": "8803d158-db3e-46f3-cf94-e9614e86e3cd"
      },
      "source": [
        "shops.head()"
      ],
      "execution_count": 21,
      "outputs": [
        {
          "output_type": "execute_result",
          "data": {
            "text/html": [
              "<div>\n",
              "<style scoped>\n",
              "    .dataframe tbody tr th:only-of-type {\n",
              "        vertical-align: middle;\n",
              "    }\n",
              "\n",
              "    .dataframe tbody tr th {\n",
              "        vertical-align: top;\n",
              "    }\n",
              "\n",
              "    .dataframe thead th {\n",
              "        text-align: right;\n",
              "    }\n",
              "</style>\n",
              "<table border=\"1\" class=\"dataframe\">\n",
              "  <thead>\n",
              "    <tr style=\"text-align: right;\">\n",
              "      <th></th>\n",
              "      <th>shop_id</th>\n",
              "      <th>shop_category</th>\n",
              "      <th>shop_city</th>\n",
              "    </tr>\n",
              "  </thead>\n",
              "  <tbody>\n",
              "    <tr>\n",
              "      <th>0</th>\n",
              "      <td>0</td>\n",
              "      <td>0</td>\n",
              "      <td>29</td>\n",
              "    </tr>\n",
              "    <tr>\n",
              "      <th>1</th>\n",
              "      <td>1</td>\n",
              "      <td>4</td>\n",
              "      <td>29</td>\n",
              "    </tr>\n",
              "    <tr>\n",
              "      <th>2</th>\n",
              "      <td>2</td>\n",
              "      <td>4</td>\n",
              "      <td>0</td>\n",
              "    </tr>\n",
              "    <tr>\n",
              "      <th>3</th>\n",
              "      <td>3</td>\n",
              "      <td>2</td>\n",
              "      <td>1</td>\n",
              "    </tr>\n",
              "    <tr>\n",
              "      <th>4</th>\n",
              "      <td>4</td>\n",
              "      <td>4</td>\n",
              "      <td>2</td>\n",
              "    </tr>\n",
              "  </tbody>\n",
              "</table>\n",
              "</div>"
            ],
            "text/plain": [
              "   shop_id  shop_category  shop_city\n",
              "0        0              0         29\n",
              "1        1              4         29\n",
              "2        2              4          0\n",
              "3        3              2          1\n",
              "4        4              4          2"
            ]
          },
          "metadata": {
            "tags": []
          },
          "execution_count": 21
        }
      ]
    },
    {
      "cell_type": "markdown",
      "metadata": {
        "id": "uq1FloQAhkXR"
      },
      "source": [
        "## item_categories進行細分"
      ]
    },
    {
      "cell_type": "code",
      "metadata": {
        "id": "TLTODhKmhkXR"
      },
      "source": [
        "cats = pd.read_csv('./data/item_categories.csv')"
      ],
      "execution_count": 22,
      "outputs": []
    },
    {
      "cell_type": "code",
      "metadata": {
        "id": "ppFR8b0DhkXR"
      },
      "source": [
        "#cats.head()"
      ],
      "execution_count": 23,
      "outputs": []
    },
    {
      "cell_type": "code",
      "metadata": {
        "id": "yQBT872FhkXR"
      },
      "source": [
        "cats[\"item_type\"] = cats.item_category_name.apply( lambda x: x.split(\" \")[0] ).astype(str)"
      ],
      "execution_count": 24,
      "outputs": []
    },
    {
      "cell_type": "code",
      "metadata": {
        "id": "BwvIxNgohkXR"
      },
      "source": [
        "#cats.head()"
      ],
      "execution_count": 25,
      "outputs": []
    },
    {
      "cell_type": "code",
      "metadata": {
        "id": "GM008kxAhkXR",
        "colab": {
          "base_uri": "https://localhost:8080/"
        },
        "outputId": "2cb26cbf-e0b7-4d30-e610-afc919ef671d"
      },
      "source": [
        "category = []\n",
        "for cat in cats.item_type.unique():\n",
        "    print(cat, len(cats[cats.item_type == cat]))\n",
        "    if len(cats[cats.item_type == cat]) > 3: \n",
        "        category.append( cat )"
      ],
      "execution_count": 26,
      "outputs": [
        {
          "output_type": "stream",
          "text": [
            "PC 1\n",
            "Аксессуары 7\n",
            "Билеты 1\n",
            "Доставка 1\n",
            "Игровые 8\n",
            "Игры 14\n",
            "Карты 5\n",
            "Кино 5\n",
            "Книги 13\n",
            "Музыка 6\n",
            "Подарки 12\n",
            "Программы 6\n",
            "Служебные 2\n",
            "Чистые 2\n",
            "Элементы 1\n"
          ],
          "name": "stdout"
        }
      ]
    },
    {
      "cell_type": "code",
      "metadata": {
        "id": "kI147X6GhkXZ"
      },
      "source": [
        "cats.item_type = cats.item_type.apply(lambda x: x if (x in category) else \"etc\")\n"
      ],
      "execution_count": 27,
      "outputs": []
    },
    {
      "cell_type": "code",
      "metadata": {
        "id": "WwVxVBqhhkXZ"
      },
      "source": [
        "#cats.head()"
      ],
      "execution_count": 28,
      "outputs": []
    },
    {
      "cell_type": "code",
      "metadata": {
        "id": "O6drqzN8hkXb"
      },
      "source": [
        "cats.item_type= LabelEncoder().fit_transform(cats.item_type)"
      ],
      "execution_count": 29,
      "outputs": []
    },
    {
      "cell_type": "code",
      "metadata": {
        "id": "DAzUktdqhkXb"
      },
      "source": [
        "#cats.head()"
      ],
      "execution_count": 30,
      "outputs": []
    },
    {
      "cell_type": "code",
      "metadata": {
        "id": "N_LaT4ODhkXb"
      },
      "source": [
        "cats[\"split\"] = cats.item_category_name.apply(lambda x: x.split(\"-\"))\n",
        "cats[\"subtype\"] = cats.split.apply(lambda x: x[1].strip() if len(x) > 1 else x[0].strip())"
      ],
      "execution_count": 31,
      "outputs": []
    },
    {
      "cell_type": "code",
      "metadata": {
        "id": "UnxtlNxthkXc"
      },
      "source": [
        "#cats.head(5)"
      ],
      "execution_count": 32,
      "outputs": []
    },
    {
      "cell_type": "code",
      "metadata": {
        "id": "PcEmf-8ghkXd",
        "colab": {
          "base_uri": "https://localhost:8080/",
          "height": 206
        },
        "outputId": "a7b691dc-f7ec-43de-ae52-0becdf87b9aa"
      },
      "source": [
        "cats[\"subtype_code\"] = LabelEncoder().fit_transform( cats[\"subtype\"] )\n",
        "cats = cats[[\"item_category_id\", \"subtype_code\", \"item_type\"]]\n",
        "# 檢視「cats」資料集前5筆資料\n",
        "cats.head(5)"
      ],
      "execution_count": 33,
      "outputs": [
        {
          "output_type": "execute_result",
          "data": {
            "text/html": [
              "<div>\n",
              "<style scoped>\n",
              "    .dataframe tbody tr th:only-of-type {\n",
              "        vertical-align: middle;\n",
              "    }\n",
              "\n",
              "    .dataframe tbody tr th {\n",
              "        vertical-align: top;\n",
              "    }\n",
              "\n",
              "    .dataframe thead th {\n",
              "        text-align: right;\n",
              "    }\n",
              "</style>\n",
              "<table border=\"1\" class=\"dataframe\">\n",
              "  <thead>\n",
              "    <tr style=\"text-align: right;\">\n",
              "      <th></th>\n",
              "      <th>item_category_id</th>\n",
              "      <th>subtype_code</th>\n",
              "      <th>item_type</th>\n",
              "    </tr>\n",
              "  </thead>\n",
              "  <tbody>\n",
              "    <tr>\n",
              "      <th>0</th>\n",
              "      <td>0</td>\n",
              "      <td>29</td>\n",
              "      <td>0</td>\n",
              "    </tr>\n",
              "    <tr>\n",
              "      <th>1</th>\n",
              "      <td>1</td>\n",
              "      <td>9</td>\n",
              "      <td>1</td>\n",
              "    </tr>\n",
              "    <tr>\n",
              "      <th>2</th>\n",
              "      <td>2</td>\n",
              "      <td>10</td>\n",
              "      <td>1</td>\n",
              "    </tr>\n",
              "    <tr>\n",
              "      <th>3</th>\n",
              "      <td>3</td>\n",
              "      <td>11</td>\n",
              "      <td>1</td>\n",
              "    </tr>\n",
              "    <tr>\n",
              "      <th>4</th>\n",
              "      <td>4</td>\n",
              "      <td>13</td>\n",
              "      <td>1</td>\n",
              "    </tr>\n",
              "  </tbody>\n",
              "</table>\n",
              "</div>"
            ],
            "text/plain": [
              "   item_category_id  subtype_code  item_type\n",
              "0                 0            29          0\n",
              "1                 1             9          1\n",
              "2                 2            10          1\n",
              "3                 3            11          1\n",
              "4                 4            13          1"
            ]
          },
          "metadata": {
            "tags": []
          },
          "execution_count": 33
        }
      ]
    },
    {
      "cell_type": "markdown",
      "metadata": {
        "id": "kYL4wrDchkXd"
      },
      "source": [
        "## 根據item_name進行細分"
      ]
    },
    {
      "cell_type": "code",
      "metadata": {
        "id": "PSGwM8KmhkXd"
      },
      "source": [
        "items = pd.read_csv('./data/items.csv')"
      ],
      "execution_count": 34,
      "outputs": []
    },
    {
      "cell_type": "code",
      "metadata": {
        "id": "Wpt87zKmhkXd"
      },
      "source": [
        "#items.head()"
      ],
      "execution_count": 35,
      "outputs": []
    },
    {
      "cell_type": "code",
      "metadata": {
        "colab": {
          "base_uri": "https://localhost:8080/"
        },
        "id": "mvJApKxDhkXd",
        "outputId": "2802ab32-6398-44fb-a0f1-18dc76607789"
      },
      "source": [
        "items[\"name1\"], items[\"name2\"] = items.item_name.str.split(\"[\", 1).str\n",
        "items[\"name\"],items[\"name3\"] = items.name2.str.split(\"]\", 1).str\n",
        "items[\"name\"] = items.name.str.replace('[^A-Za-z0-9А-Яа-я]+', \" \").str.lower()\n",
        "\n",
        "items = items.fillna('0')\n",
        "import re\n",
        "def name_correction(x):\n",
        "    x = x.lower()\n",
        "    x = x.partition('[')[0]\n",
        "    x = x.partition('(')[0]\n",
        "    x = re.sub('[^A-Za-z0-9А-Яа-я]+', ' ', x)\n",
        "    x = x.replace('  ', ' ')\n",
        "    x = x.strip()\n",
        "    return x\n",
        "items[\"item_name\"] = items[\"item_name\"].apply(lambda x: name_correction(x))\n",
        "items.name= items.name.apply( lambda x: x[:] if x !=\"0\" else \"0\")"
      ],
      "execution_count": 36,
      "outputs": [
        {
          "output_type": "stream",
          "text": [
            "/usr/local/lib/python3.6/dist-packages/ipykernel_launcher.py:1: FutureWarning: Columnar iteration over characters will be deprecated in future releases.\n",
            "  \"\"\"Entry point for launching an IPython kernel.\n",
            "/usr/local/lib/python3.6/dist-packages/ipykernel_launcher.py:2: FutureWarning: Columnar iteration over characters will be deprecated in future releases.\n",
            "  \n"
          ],
          "name": "stderr"
        }
      ]
    },
    {
      "cell_type": "code",
      "metadata": {
        "id": "T8foMawnhkXf"
      },
      "source": [
        "#len(items.name.unique())"
      ],
      "execution_count": 37,
      "outputs": []
    },
    {
      "cell_type": "code",
      "metadata": {
        "id": "PycU4ZLXhkXf"
      },
      "source": [
        "items[\"type\"] = items.name.apply(lambda x: x[0:8] if x.split(\" \")[0] == \"xbox\" else x.split(\" \")[0] )\n",
        "items.loc[(items.type == \"x360\") | (items.type == \"xbox360\") | (items.type == \"xbox 360\") ,\"type\"] = \"xbox 360\"\n",
        "items.loc[ (items.type == 'pc' )| (items.type == 'pс') | (items.type == \"pc\"), \"type\" ] = \"pc\"\n",
        "items.loc[ items.type == 'рs3' , \"type\"] = \"ps3\"\n",
        "items.loc[ items.type == \"\", \"type\"] = \"mac\"\n",
        "\n",
        "items.type = items.type.apply( lambda x: x.replace(\" \", \"\") )"
      ],
      "execution_count": 38,
      "outputs": []
    },
    {
      "cell_type": "code",
      "metadata": {
        "id": "DTfh9JKxhkXf"
      },
      "source": [
        "group_sum = items.groupby([\"type\"]).agg({\"item_id\":\"count\"})\n",
        "group_sum = group_sum.reset_index()\n",
        "#group_sum"
      ],
      "execution_count": 39,
      "outputs": []
    },
    {
      "cell_type": "code",
      "metadata": {
        "id": "Du7QE5fqhkXg"
      },
      "source": [
        "# 新設立一個空清單，Dataframe「group_sum」中的資料寫入出現頻率較低的資料(在此設為40)於清單內\n",
        "drop_cols = []\n",
        "for cat in group_sum.type.unique():\n",
        "    if group_sum.loc[(group_sum.type == cat), \"item_id\"].values[0] <40:\n",
        "        drop_cols.append(cat)\n"
      ],
      "execution_count": 40,
      "outputs": []
    },
    {
      "cell_type": "code",
      "metadata": {
        "id": "cfQqV6QnhkXg"
      },
      "source": [
        "#drop_cols"
      ],
      "execution_count": 41,
      "outputs": []
    },
    {
      "cell_type": "code",
      "metadata": {
        "id": "4ilifYzKhkXi",
        "colab": {
          "base_uri": "https://localhost:8080/"
        },
        "outputId": "bd72af6c-3f17-49de-a88a-c2e7054fce82"
      },
      "source": [
        "for i in drop_cols:\n",
        "    items.name[items.type==i] = \"etc\"\n"
      ],
      "execution_count": 42,
      "outputs": [
        {
          "output_type": "stream",
          "text": [
            "/usr/local/lib/python3.6/dist-packages/ipykernel_launcher.py:2: SettingWithCopyWarning: \n",
            "A value is trying to be set on a copy of a slice from a DataFrame\n",
            "\n",
            "See the caveats in the documentation: https://pandas.pydata.org/pandas-docs/stable/user_guide/indexing.html#returning-a-view-versus-a-copy\n",
            "  \n"
          ],
          "name": "stderr"
        }
      ]
    },
    {
      "cell_type": "code",
      "metadata": {
        "id": "c1eebSpNhkXj"
      },
      "source": [
        "#len(items.name.unique())"
      ],
      "execution_count": 43,
      "outputs": []
    },
    {
      "cell_type": "code",
      "metadata": {
        "id": "E0AQC6kEhkXs"
      },
      "source": [
        ""
      ],
      "execution_count": 43,
      "outputs": []
    },
    {
      "cell_type": "code",
      "metadata": {
        "id": "JrnWEHzuhkXs"
      },
      "source": [
        "items.drop([\"item_name\", \"name1\",\"name2\",\"name3\",\"type\"],axis = 1, inplace= True)"
      ],
      "execution_count": 44,
      "outputs": []
    },
    {
      "cell_type": "code",
      "metadata": {
        "id": "fH667DiOhkXs",
        "colab": {
          "base_uri": "https://localhost:8080/",
          "height": 206
        },
        "outputId": "af401006-ace7-4b9a-93c6-eacfc26c0b60"
      },
      "source": [
        "items.name= LabelEncoder().fit_transform(items.name)\n",
        "items.head()"
      ],
      "execution_count": 45,
      "outputs": [
        {
          "output_type": "execute_result",
          "data": {
            "text/html": [
              "<div>\n",
              "<style scoped>\n",
              "    .dataframe tbody tr th:only-of-type {\n",
              "        vertical-align: middle;\n",
              "    }\n",
              "\n",
              "    .dataframe tbody tr th {\n",
              "        vertical-align: top;\n",
              "    }\n",
              "\n",
              "    .dataframe thead th {\n",
              "        text-align: right;\n",
              "    }\n",
              "</style>\n",
              "<table border=\"1\" class=\"dataframe\">\n",
              "  <thead>\n",
              "    <tr style=\"text-align: right;\">\n",
              "      <th></th>\n",
              "      <th>item_id</th>\n",
              "      <th>item_category_id</th>\n",
              "      <th>name</th>\n",
              "    </tr>\n",
              "  </thead>\n",
              "  <tbody>\n",
              "    <tr>\n",
              "      <th>0</th>\n",
              "      <td>0</td>\n",
              "      <td>40</td>\n",
              "      <td>4</td>\n",
              "    </tr>\n",
              "    <tr>\n",
              "      <th>1</th>\n",
              "      <td>1</td>\n",
              "      <td>76</td>\n",
              "      <td>48</td>\n",
              "    </tr>\n",
              "    <tr>\n",
              "      <th>2</th>\n",
              "      <td>2</td>\n",
              "      <td>40</td>\n",
              "      <td>4</td>\n",
              "    </tr>\n",
              "    <tr>\n",
              "      <th>3</th>\n",
              "      <td>3</td>\n",
              "      <td>40</td>\n",
              "      <td>4</td>\n",
              "    </tr>\n",
              "    <tr>\n",
              "      <th>4</th>\n",
              "      <td>4</td>\n",
              "      <td>40</td>\n",
              "      <td>4</td>\n",
              "    </tr>\n",
              "  </tbody>\n",
              "</table>\n",
              "</div>"
            ],
            "text/plain": [
              "   item_id  item_category_id  name\n",
              "0        0                40     4\n",
              "1        1                76    48\n",
              "2        2                40     4\n",
              "3        3                40     4\n",
              "4        4                40     4"
            ]
          },
          "metadata": {
            "tags": []
          },
          "execution_count": 45
        }
      ]
    },
    {
      "cell_type": "markdown",
      "metadata": {
        "id": "6NdilOMRo_l2"
      },
      "source": [
        "##Matrix 建立"
      ]
    },
    {
      "cell_type": "code",
      "metadata": {
        "id": "Bs13s3oHhkXt",
        "colab": {
          "base_uri": "https://localhost:8080/",
          "height": 424
        },
        "outputId": "d2a57add-8f80-4563-bc9a-68745e02eaaf"
      },
      "source": [
        "from itertools import product\r\n",
        "#用train製作Dataframe maxtrix\r\n",
        "matrix = []\r\n",
        "cols  = [\"date_block_num\", \"shop_id\", \"item_id\"]\r\n",
        "for i in range(34):\r\n",
        "    sales = train[train.date_block_num == i]\r\n",
        "    matrix.append( np.array(list( product( [i], sales.shop_id.unique(), sales.item_id.unique() ) ), dtype = np.int16) )\r\n",
        "\r\n",
        "matrix = pd.DataFrame( np.vstack(matrix), columns = cols )\r\n",
        "matrix[\"date_block_num\"] = matrix[\"date_block_num\"].astype(np.int8)\r\n",
        "matrix[\"shop_id\"] = matrix[\"shop_id\"].astype(np.int8)\r\n",
        "matrix[\"item_id\"] = matrix[\"item_id\"].astype(np.int16)\r\n",
        "matrix.sort_values( cols, inplace = True )\r\n",
        "\r\n",
        "matrix"
      ],
      "execution_count": 46,
      "outputs": [
        {
          "output_type": "execute_result",
          "data": {
            "text/html": [
              "<div>\n",
              "<style scoped>\n",
              "    .dataframe tbody tr th:only-of-type {\n",
              "        vertical-align: middle;\n",
              "    }\n",
              "\n",
              "    .dataframe tbody tr th {\n",
              "        vertical-align: top;\n",
              "    }\n",
              "\n",
              "    .dataframe thead th {\n",
              "        text-align: right;\n",
              "    }\n",
              "</style>\n",
              "<table border=\"1\" class=\"dataframe\">\n",
              "  <thead>\n",
              "    <tr style=\"text-align: right;\">\n",
              "      <th></th>\n",
              "      <th>date_block_num</th>\n",
              "      <th>shop_id</th>\n",
              "      <th>item_id</th>\n",
              "    </tr>\n",
              "  </thead>\n",
              "  <tbody>\n",
              "    <tr>\n",
              "      <th>114910</th>\n",
              "      <td>0</td>\n",
              "      <td>2</td>\n",
              "      <td>19</td>\n",
              "    </tr>\n",
              "    <tr>\n",
              "      <th>117150</th>\n",
              "      <td>0</td>\n",
              "      <td>2</td>\n",
              "      <td>27</td>\n",
              "    </tr>\n",
              "    <tr>\n",
              "      <th>120623</th>\n",
              "      <td>0</td>\n",
              "      <td>2</td>\n",
              "      <td>28</td>\n",
              "    </tr>\n",
              "    <tr>\n",
              "      <th>118316</th>\n",
              "      <td>0</td>\n",
              "      <td>2</td>\n",
              "      <td>29</td>\n",
              "    </tr>\n",
              "    <tr>\n",
              "      <th>114602</th>\n",
              "      <td>0</td>\n",
              "      <td>2</td>\n",
              "      <td>32</td>\n",
              "    </tr>\n",
              "    <tr>\n",
              "      <th>...</th>\n",
              "      <td>...</td>\n",
              "      <td>...</td>\n",
              "      <td>...</td>\n",
              "    </tr>\n",
              "    <tr>\n",
              "      <th>10697061</th>\n",
              "      <td>33</td>\n",
              "      <td>59</td>\n",
              "      <td>22162</td>\n",
              "    </tr>\n",
              "    <tr>\n",
              "      <th>10697251</th>\n",
              "      <td>33</td>\n",
              "      <td>59</td>\n",
              "      <td>22163</td>\n",
              "    </tr>\n",
              "    <tr>\n",
              "      <th>10697917</th>\n",
              "      <td>33</td>\n",
              "      <td>59</td>\n",
              "      <td>22164</td>\n",
              "    </tr>\n",
              "    <tr>\n",
              "      <th>10699443</th>\n",
              "      <td>33</td>\n",
              "      <td>59</td>\n",
              "      <td>22166</td>\n",
              "    </tr>\n",
              "    <tr>\n",
              "      <th>10698738</th>\n",
              "      <td>33</td>\n",
              "      <td>59</td>\n",
              "      <td>22167</td>\n",
              "    </tr>\n",
              "  </tbody>\n",
              "</table>\n",
              "<p>10842077 rows × 3 columns</p>\n",
              "</div>"
            ],
            "text/plain": [
              "          date_block_num  shop_id  item_id\n",
              "114910                 0        2       19\n",
              "117150                 0        2       27\n",
              "120623                 0        2       28\n",
              "118316                 0        2       29\n",
              "114602                 0        2       32\n",
              "...                  ...      ...      ...\n",
              "10697061              33       59    22162\n",
              "10697251              33       59    22163\n",
              "10697917              33       59    22164\n",
              "10699443              33       59    22166\n",
              "10698738              33       59    22167\n",
              "\n",
              "[10842077 rows x 3 columns]"
            ]
          },
          "metadata": {
            "tags": []
          },
          "execution_count": 46
        }
      ]
    },
    {
      "cell_type": "code",
      "metadata": {
        "colab": {
          "base_uri": "https://localhost:8080/",
          "height": 424
        },
        "id": "lr2jvJ5as_Sb",
        "outputId": "b9997fc2-6f16-4e5f-8461-08f913917c9c"
      },
      "source": [
        "#train加入新變數-revenue\r\n",
        "#matrix加入新變數-item_cnt_month:每家店每個item每個月所賣的數量\r\n",
        "train[\"revenue\"] = train[\"item_cnt_day\"] * train[\"item_price\"]\r\n",
        "\r\n",
        "group = train.groupby( [\"date_block_num\", \"shop_id\", \"item_id\"] ).agg( {\"item_cnt_day\": [\"sum\"]} )\r\n",
        "group.columns = [\"item_cnt_month\"]\r\n",
        "group.reset_index( inplace = True)\r\n",
        "matrix = pd.merge( matrix, group, on = cols, how = \"left\" )\r\n",
        "matrix[\"item_cnt_month\"] = matrix[\"item_cnt_month\"].fillna(0).astype(np.float16)\r\n",
        "\r\n",
        "\r\n",
        "test[\"date_block_num\"] = 34\r\n",
        "test[\"date_block_num\"] = test[\"date_block_num\"].astype(np.int8)\r\n",
        "test[\"shop_id\"] = test.shop_id.astype(np.int8)\r\n",
        "test[\"item_id\"] = test.item_id.astype(np.int16)\r\n",
        "\r\n",
        "\r\n",
        "\r\n",
        "matrix = pd.concat([matrix, test.drop([\"ID\"],axis = 1)], ignore_index=True, sort=False, keys=cols)\r\n",
        "matrix.fillna( 0, inplace = True )\r\n",
        "\r\n",
        "\r\n",
        "\r\n",
        "matrix = pd.merge( matrix, shops, on = [\"shop_id\"], how = \"left\" )\r\n",
        "matrix = pd.merge(matrix, items, on = [\"item_id\"], how = \"left\")\r\n",
        "matrix = pd.merge( matrix, cats, on = [\"item_category_id\"], how = \"left\" )\r\n",
        "matrix[\"shop_city\"] = matrix[\"shop_city\"].astype(np.int8)\r\n",
        "matrix[\"shop_category\"] = matrix[\"shop_category\"].astype(np.int8)\r\n",
        "matrix[\"item_category_id\"] = matrix[\"item_category_id\"].astype(np.int8)\r\n",
        "matrix[\"subtype_code\"] = matrix[\"subtype_code\"].astype(np.int8)\r\n",
        "\r\n",
        "matrix[\"item_type\"] = matrix[\"item_type\"].astype(np.int8)\r\n",
        "\r\n",
        "matrix"
      ],
      "execution_count": 47,
      "outputs": [
        {
          "output_type": "execute_result",
          "data": {
            "text/html": [
              "<div>\n",
              "<style scoped>\n",
              "    .dataframe tbody tr th:only-of-type {\n",
              "        vertical-align: middle;\n",
              "    }\n",
              "\n",
              "    .dataframe tbody tr th {\n",
              "        vertical-align: top;\n",
              "    }\n",
              "\n",
              "    .dataframe thead th {\n",
              "        text-align: right;\n",
              "    }\n",
              "</style>\n",
              "<table border=\"1\" class=\"dataframe\">\n",
              "  <thead>\n",
              "    <tr style=\"text-align: right;\">\n",
              "      <th></th>\n",
              "      <th>date_block_num</th>\n",
              "      <th>shop_id</th>\n",
              "      <th>item_id</th>\n",
              "      <th>item_cnt_month</th>\n",
              "      <th>shop_category</th>\n",
              "      <th>shop_city</th>\n",
              "      <th>item_category_id</th>\n",
              "      <th>name</th>\n",
              "      <th>subtype_code</th>\n",
              "      <th>item_type</th>\n",
              "    </tr>\n",
              "  </thead>\n",
              "  <tbody>\n",
              "    <tr>\n",
              "      <th>0</th>\n",
              "      <td>0</td>\n",
              "      <td>2</td>\n",
              "      <td>19</td>\n",
              "      <td>0.0</td>\n",
              "      <td>4</td>\n",
              "      <td>0</td>\n",
              "      <td>40</td>\n",
              "      <td>4</td>\n",
              "      <td>4</td>\n",
              "      <td>5</td>\n",
              "    </tr>\n",
              "    <tr>\n",
              "      <th>1</th>\n",
              "      <td>0</td>\n",
              "      <td>2</td>\n",
              "      <td>27</td>\n",
              "      <td>1.0</td>\n",
              "      <td>4</td>\n",
              "      <td>0</td>\n",
              "      <td>19</td>\n",
              "      <td>60</td>\n",
              "      <td>10</td>\n",
              "      <td>3</td>\n",
              "    </tr>\n",
              "    <tr>\n",
              "      <th>2</th>\n",
              "      <td>0</td>\n",
              "      <td>2</td>\n",
              "      <td>28</td>\n",
              "      <td>0.0</td>\n",
              "      <td>4</td>\n",
              "      <td>0</td>\n",
              "      <td>30</td>\n",
              "      <td>77</td>\n",
              "      <td>55</td>\n",
              "      <td>3</td>\n",
              "    </tr>\n",
              "    <tr>\n",
              "      <th>3</th>\n",
              "      <td>0</td>\n",
              "      <td>2</td>\n",
              "      <td>29</td>\n",
              "      <td>0.0</td>\n",
              "      <td>4</td>\n",
              "      <td>0</td>\n",
              "      <td>23</td>\n",
              "      <td>90</td>\n",
              "      <td>16</td>\n",
              "      <td>3</td>\n",
              "    </tr>\n",
              "    <tr>\n",
              "      <th>4</th>\n",
              "      <td>0</td>\n",
              "      <td>2</td>\n",
              "      <td>32</td>\n",
              "      <td>0.0</td>\n",
              "      <td>4</td>\n",
              "      <td>0</td>\n",
              "      <td>40</td>\n",
              "      <td>4</td>\n",
              "      <td>4</td>\n",
              "      <td>5</td>\n",
              "    </tr>\n",
              "    <tr>\n",
              "      <th>...</th>\n",
              "      <td>...</td>\n",
              "      <td>...</td>\n",
              "      <td>...</td>\n",
              "      <td>...</td>\n",
              "      <td>...</td>\n",
              "      <td>...</td>\n",
              "      <td>...</td>\n",
              "      <td>...</td>\n",
              "      <td>...</td>\n",
              "      <td>...</td>\n",
              "    </tr>\n",
              "    <tr>\n",
              "      <th>11056272</th>\n",
              "      <td>34</td>\n",
              "      <td>45</td>\n",
              "      <td>18454</td>\n",
              "      <td>0.0</td>\n",
              "      <td>4</td>\n",
              "      <td>20</td>\n",
              "      <td>55</td>\n",
              "      <td>4</td>\n",
              "      <td>2</td>\n",
              "      <td>7</td>\n",
              "    </tr>\n",
              "    <tr>\n",
              "      <th>11056273</th>\n",
              "      <td>34</td>\n",
              "      <td>45</td>\n",
              "      <td>16188</td>\n",
              "      <td>0.0</td>\n",
              "      <td>4</td>\n",
              "      <td>20</td>\n",
              "      <td>64</td>\n",
              "      <td>4</td>\n",
              "      <td>42</td>\n",
              "      <td>8</td>\n",
              "    </tr>\n",
              "    <tr>\n",
              "      <th>11056274</th>\n",
              "      <td>34</td>\n",
              "      <td>45</td>\n",
              "      <td>15757</td>\n",
              "      <td>0.0</td>\n",
              "      <td>4</td>\n",
              "      <td>20</td>\n",
              "      <td>55</td>\n",
              "      <td>4</td>\n",
              "      <td>2</td>\n",
              "      <td>7</td>\n",
              "    </tr>\n",
              "    <tr>\n",
              "      <th>11056275</th>\n",
              "      <td>34</td>\n",
              "      <td>45</td>\n",
              "      <td>19648</td>\n",
              "      <td>0.0</td>\n",
              "      <td>4</td>\n",
              "      <td>20</td>\n",
              "      <td>40</td>\n",
              "      <td>4</td>\n",
              "      <td>4</td>\n",
              "      <td>5</td>\n",
              "    </tr>\n",
              "    <tr>\n",
              "      <th>11056276</th>\n",
              "      <td>34</td>\n",
              "      <td>45</td>\n",
              "      <td>969</td>\n",
              "      <td>0.0</td>\n",
              "      <td>4</td>\n",
              "      <td>20</td>\n",
              "      <td>37</td>\n",
              "      <td>4</td>\n",
              "      <td>1</td>\n",
              "      <td>5</td>\n",
              "    </tr>\n",
              "  </tbody>\n",
              "</table>\n",
              "<p>11056277 rows × 10 columns</p>\n",
              "</div>"
            ],
            "text/plain": [
              "          date_block_num  shop_id  item_id  ...  name  subtype_code  item_type\n",
              "0                      0        2       19  ...     4             4          5\n",
              "1                      0        2       27  ...    60            10          3\n",
              "2                      0        2       28  ...    77            55          3\n",
              "3                      0        2       29  ...    90            16          3\n",
              "4                      0        2       32  ...     4             4          5\n",
              "...                  ...      ...      ...  ...   ...           ...        ...\n",
              "11056272              34       45    18454  ...     4             2          7\n",
              "11056273              34       45    16188  ...     4            42          8\n",
              "11056274              34       45    15757  ...     4             2          7\n",
              "11056275              34       45    19648  ...     4             4          5\n",
              "11056276              34       45      969  ...     4             1          5\n",
              "\n",
              "[11056277 rows x 10 columns]"
            ]
          },
          "metadata": {
            "tags": []
          },
          "execution_count": 47
        }
      ]
    },
    {
      "cell_type": "markdown",
      "metadata": {
        "id": "FlJnQTocrwIk"
      },
      "source": [
        "##加入Lag Feature"
      ]
    },
    {
      "cell_type": "code",
      "metadata": {
        "id": "vssyzyqOhkXt",
        "colab": {
          "base_uri": "https://localhost:8080/"
        },
        "outputId": "96135034-d9c9-4f78-99c4-91c6532b0c49"
      },
      "source": [
        "def lag_feature( df,lags, cols ):\r\n",
        "    for col in cols:\r\n",
        "        print(col)\r\n",
        "        tmp = df[[\"date_block_num\", \"shop_id\",\"item_id\",col ]]\r\n",
        "        for i in lags:\r\n",
        "            shifted = tmp.copy()\r\n",
        "            shifted.columns = [\"date_block_num\", \"shop_id\", \"item_id\", col + \"_lag_\"+str(i)]\r\n",
        "            shifted.date_block_num = shifted.date_block_num + i\r\n",
        "            df = pd.merge(df, shifted, on=['date_block_num','shop_id','item_id'], how='left')\r\n",
        "    return df\r\n",
        "\r\n",
        "matrix = lag_feature( matrix, [1,2,3], [\"item_cnt_month\"] )\r\n",
        "\r\n",
        "matrix.head()\r\n",
        "\r\n",
        "group = matrix.groupby( [\"date_block_num\"] ).agg({\"item_cnt_month\" : [\"mean\"]})\r\n",
        "group.columns = [\"date_avg_item_cnt\"]\r\n",
        "group.reset_index(inplace = True)\r\n",
        "\r\n",
        "matrix = pd.merge(matrix, group, on = [\"date_block_num\"], how = \"left\")\r\n",
        "matrix.date_avg_item_cnt = matrix[\"date_avg_item_cnt\"].astype(np.float16)\r\n",
        "matrix = lag_feature( matrix, [1], [\"date_avg_item_cnt\"] )\r\n",
        "matrix.drop( [\"date_avg_item_cnt\"], axis = 1, inplace = True )\r\n",
        "\r\n",
        "\r\n",
        "group = matrix.groupby(['date_block_num', 'item_id']).agg({'item_cnt_month': ['mean']})\r\n",
        "group.columns = [ 'date_item_avg_item_cnt' ]\r\n",
        "group.reset_index(inplace=True)\r\n",
        "\r\n",
        "matrix = pd.merge(matrix, group, on=['date_block_num','item_id'], how='left')\r\n",
        "matrix.date_item_avg_item_cnt = matrix['date_item_avg_item_cnt'].astype(np.float16)\r\n",
        "matrix = lag_feature(matrix, [1,2,3], ['date_item_avg_item_cnt'])\r\n",
        "matrix.drop(['date_item_avg_item_cnt'], axis=1, inplace=True)\r\n",
        "\r\n",
        "\r\n",
        "\r\n",
        "group = matrix.groupby( [\"date_block_num\",\"shop_id\"] ).agg({\"item_cnt_month\" : [\"mean\"]})\r\n",
        "group.columns = [\"date_shop_avg_item_cnt\"]\r\n",
        "group.reset_index(inplace = True)\r\n",
        "\r\n",
        "matrix = pd.merge(matrix, group, on = [\"date_block_num\",\"shop_id\"], how = \"left\")\r\n",
        "matrix.date_avg_item_cnt = matrix[\"date_shop_avg_item_cnt\"].astype(np.float16)\r\n",
        "matrix = lag_feature( matrix, [1,2,3], [\"date_shop_avg_item_cnt\"] )\r\n",
        "matrix.drop( [\"date_shop_avg_item_cnt\"], axis = 1, inplace = True )\r\n",
        "\r\n",
        "\r\n",
        "\r\n",
        "group = matrix.groupby( [\"date_block_num\",\"shop_id\",\"item_id\"] ).agg({\"item_cnt_month\" : [\"mean\"]})\r\n",
        "group.columns = [\"date_shop_item_avg_item_cnt\"]\r\n",
        "group.reset_index(inplace = True)\r\n",
        "\r\n",
        "matrix = pd.merge(matrix, group, on = [\"date_block_num\",\"shop_id\",\"item_id\"], how = \"left\")\r\n",
        "matrix.date_avg_item_cnt = matrix[\"date_shop_item_avg_item_cnt\"].astype(np.float16)\r\n",
        "matrix = lag_feature( matrix, [1,2,3], [\"date_shop_item_avg_item_cnt\"] )\r\n",
        "matrix.drop( [\"date_shop_item_avg_item_cnt\"], axis = 1, inplace = True )\r\n",
        "\r\n",
        "\r\n",
        "\r\n",
        "group = matrix.groupby(['date_block_num', 'shop_id', 'subtype_code']).agg({'item_cnt_month': ['mean']})\r\n",
        "group.columns = ['date_shop_subtype_avg_item_cnt']\r\n",
        "group.reset_index(inplace=True)\r\n",
        "\r\n",
        "matrix = pd.merge(matrix, group, on=['date_block_num', 'shop_id', 'subtype_code'], how='left')\r\n",
        "matrix.date_shop_subtype_avg_item_cnt = matrix['date_shop_subtype_avg_item_cnt'].astype(np.float16)\r\n",
        "matrix = lag_feature(matrix, [1], ['date_shop_subtype_avg_item_cnt'])\r\n",
        "matrix.drop(['date_shop_subtype_avg_item_cnt'], axis=1, inplace=True)\r\n",
        "\r\n",
        "\r\n",
        "\r\n",
        "group = matrix.groupby(['date_block_num', 'shop_city']).agg({'item_cnt_month': ['mean']})\r\n",
        "group.columns = ['date_city_avg_item_cnt']\r\n",
        "group.reset_index(inplace=True)\r\n",
        "\r\n",
        "matrix = pd.merge(matrix, group, on=['date_block_num', \"shop_city\"], how='left')\r\n",
        "matrix.date_city_avg_item_cnt = matrix['date_city_avg_item_cnt'].astype(np.float16)\r\n",
        "matrix = lag_feature(matrix, [1], ['date_city_avg_item_cnt'])\r\n",
        "matrix.drop(['date_city_avg_item_cnt'], axis=1, inplace=True)\r\n",
        "\r\n",
        "\r\n",
        "\r\n",
        "group = matrix.groupby(['date_block_num', 'item_id', 'shop_city']).agg({'item_cnt_month': ['mean']})\r\n",
        "group.columns = [ 'date_item_city_avg_item_cnt' ]\r\n",
        "group.reset_index(inplace=True)\r\n",
        "\r\n",
        "matrix = pd.merge(matrix, group, on=['date_block_num', 'item_id', 'shop_city'], how='left')\r\n",
        "matrix.date_item_city_avg_item_cnt = matrix['date_item_city_avg_item_cnt'].astype(np.float16)\r\n",
        "matrix = lag_feature(matrix, [1], ['date_item_city_avg_item_cnt'])\r\n",
        "matrix.drop(['date_item_city_avg_item_cnt'], axis=1, inplace=True)\r\n",
        "\r\n",
        "\r\n",
        "\r\n",
        "group = train.groupby( [\"item_id\"] ).agg({\"item_price\": [\"mean\"]})\r\n",
        "group.columns = [\"item_avg_item_price\"]\r\n",
        "group.reset_index(inplace = True)\r\n",
        "\r\n",
        "matrix = matrix.merge( group, on = [\"item_id\"], how = \"left\" )\r\n",
        "matrix[\"item_avg_item_price\"] = matrix.item_avg_item_price.astype(np.float16)\r\n",
        "\r\n",
        "\r\n",
        "group = train.groupby( [\"date_block_num\",\"item_id\"] ).agg( {\"item_price\": [\"mean\"]} )\r\n",
        "group.columns = [\"date_item_avg_item_price\"]\r\n",
        "group.reset_index(inplace = True)\r\n",
        "\r\n",
        "matrix = matrix.merge(group, on = [\"date_block_num\",\"item_id\"], how = \"left\")\r\n",
        "matrix[\"date_item_avg_item_price\"] = matrix.date_item_avg_item_price.astype(np.float16)\r\n",
        "lags = [1, 2, 3]\r\n",
        "matrix = lag_feature( matrix, lags, [\"date_item_avg_item_price\"] )\r\n",
        "for i in lags:\r\n",
        "    matrix[\"delta_price_lag_\" + str(i) ] = (matrix[\"date_item_avg_item_price_lag_\" + str(i)]- matrix[\"item_avg_item_price\"] )/ matrix[\"item_avg_item_price\"]\r\n"
      ],
      "execution_count": 48,
      "outputs": [
        {
          "output_type": "stream",
          "text": [
            "item_cnt_month\n",
            "date_avg_item_cnt\n",
            "date_item_avg_item_cnt\n"
          ],
          "name": "stdout"
        },
        {
          "output_type": "stream",
          "text": [
            "/usr/local/lib/python3.6/dist-packages/ipykernel_launcher.py:42: UserWarning: Pandas doesn't allow columns to be created via a new attribute name - see https://pandas.pydata.org/pandas-docs/stable/indexing.html#attribute-access\n"
          ],
          "name": "stderr"
        },
        {
          "output_type": "stream",
          "text": [
            "date_shop_avg_item_cnt\n"
          ],
          "name": "stdout"
        },
        {
          "output_type": "stream",
          "text": [
            "/usr/local/lib/python3.6/dist-packages/ipykernel_launcher.py:53: UserWarning: Pandas doesn't allow columns to be created via a new attribute name - see https://pandas.pydata.org/pandas-docs/stable/indexing.html#attribute-access\n"
          ],
          "name": "stderr"
        },
        {
          "output_type": "stream",
          "text": [
            "date_shop_item_avg_item_cnt\n",
            "date_shop_subtype_avg_item_cnt\n",
            "date_city_avg_item_cnt\n",
            "date_item_city_avg_item_cnt\n",
            "date_item_avg_item_price\n"
          ],
          "name": "stdout"
        }
      ]
    },
    {
      "cell_type": "code",
      "metadata": {
        "id": "foe2J6ZChkXt",
        "colab": {
          "base_uri": "https://localhost:8080/"
        },
        "outputId": "50274783-bede-4003-bea6-38e8ec0992b4"
      },
      "source": [
        "\r\n",
        "def select_trends(row) :\r\n",
        "    for i in lags:\r\n",
        "        if row[\"delta_price_lag_\" + str(i)]:\r\n",
        "            return row[\"delta_price_lag_\" + str(i)]\r\n",
        "    return 0\r\n",
        "\r\n",
        "matrix[\"delta_price_lag\"] = matrix.apply(select_trends, axis = 1)\r\n",
        "matrix[\"delta_price_lag\"] = matrix.delta_price_lag.astype( np.float16 )\r\n",
        "matrix[\"delta_price_lag\"].fillna( 0 ,inplace = True)\r\n",
        "\r\n",
        "features_to_drop = [\"item_avg_item_price\", \"date_item_avg_item_price\"]\r\n",
        "for i in lags:\r\n",
        "    features_to_drop.append(\"date_item_avg_item_price_lag_\" + str(i) )\r\n",
        "    features_to_drop.append(\"delta_price_lag_\" + str(i) )\r\n",
        "matrix.drop(features_to_drop, axis = 1, inplace = True)\r\n",
        "\r\n",
        "\r\n",
        "group = train.groupby( [\"date_block_num\",\"shop_id\"] ).agg({\"revenue\": [\"sum\"] })\r\n",
        "group.columns = [\"date_shop_revenue\"]\r\n",
        "group.reset_index(inplace = True)\r\n",
        "\r\n",
        "matrix = matrix.merge( group , on = [\"date_block_num\", \"shop_id\"], how = \"left\" )\r\n",
        "matrix['date_shop_revenue'] = matrix['date_shop_revenue'].astype(np.float32)\r\n",
        "\r\n",
        "group = group.groupby([\"shop_id\"]).agg({ \"date_block_num\":[\"mean\"] })\r\n",
        "group.columns = [\"shop_avg_revenue\"]\r\n",
        "group.reset_index(inplace = True )\r\n",
        "\r\n",
        "matrix = matrix.merge( group, on = [\"shop_id\"], how = \"left\" )\r\n",
        "matrix[\"shop_avg_revenue\"] = matrix.shop_avg_revenue.astype(np.float32)\r\n",
        "matrix[\"delta_revenue\"] = (matrix['date_shop_revenue'] - matrix['shop_avg_revenue']) / matrix['shop_avg_revenue']\r\n",
        "matrix[\"delta_revenue\"] = matrix[\"delta_revenue\"]. astype(np.float32)\r\n",
        "\r\n",
        "matrix = lag_feature(matrix, [1], [\"delta_revenue\"])\r\n",
        "matrix[\"delta_revenue_lag_1\"] = matrix[\"delta_revenue_lag_1\"].astype(np.float32)\r\n",
        "matrix.drop( [\"date_shop_revenue\", \"shop_avg_revenue\", \"delta_revenue\"] ,axis = 1, inplace = True)\r\n",
        "\r\n",
        "matrix[\"month\"] = matrix[\"date_block_num\"] % 12\r\n",
        "days = pd.Series([31,28,31,30,31,30,31,31,30,31,30,31])\r\n",
        "matrix[\"days\"] = matrix[\"month\"].map(days).astype(np.int8)\r\n",
        "\r\n",
        "matrix[\"item_shop_first_sale\"] = matrix[\"date_block_num\"] - matrix.groupby([\"item_id\",\"shop_id\"])[\"date_block_num\"].transform('min')\r\n",
        "matrix[\"item_first_sale\"] = matrix[\"date_block_num\"] - matrix.groupby([\"item_id\"])[\"date_block_num\"].transform('min')\r\n",
        "\r\n",
        "matrix = matrix[matrix[\"date_block_num\"] > 3]\r\n"
      ],
      "execution_count": 49,
      "outputs": [
        {
          "output_type": "stream",
          "text": [
            "delta_revenue\n"
          ],
          "name": "stdout"
        }
      ]
    },
    {
      "cell_type": "code",
      "metadata": {
        "id": "iWYKW8xehkXu",
        "colab": {
          "base_uri": "https://localhost:8080/",
          "height": 1000
        },
        "outputId": "9f42234d-c9ce-4962-d408-682c7b88171a"
      },
      "source": [
        "matrix.head(5).T"
      ],
      "execution_count": 50,
      "outputs": [
        {
          "output_type": "execute_result",
          "data": {
            "text/html": [
              "<div>\n",
              "<style scoped>\n",
              "    .dataframe tbody tr th:only-of-type {\n",
              "        vertical-align: middle;\n",
              "    }\n",
              "\n",
              "    .dataframe tbody tr th {\n",
              "        vertical-align: top;\n",
              "    }\n",
              "\n",
              "    .dataframe thead th {\n",
              "        text-align: right;\n",
              "    }\n",
              "</style>\n",
              "<table border=\"1\" class=\"dataframe\">\n",
              "  <thead>\n",
              "    <tr style=\"text-align: right;\">\n",
              "      <th></th>\n",
              "      <th>1497465</th>\n",
              "      <th>1497466</th>\n",
              "      <th>1497467</th>\n",
              "      <th>1497468</th>\n",
              "      <th>1497469</th>\n",
              "    </tr>\n",
              "  </thead>\n",
              "  <tbody>\n",
              "    <tr>\n",
              "      <th>date_block_num</th>\n",
              "      <td>4.000000</td>\n",
              "      <td>4.000000</td>\n",
              "      <td>4.0</td>\n",
              "      <td>4.000000</td>\n",
              "      <td>4.000000</td>\n",
              "    </tr>\n",
              "    <tr>\n",
              "      <th>shop_id</th>\n",
              "      <td>2.000000</td>\n",
              "      <td>2.000000</td>\n",
              "      <td>2.0</td>\n",
              "      <td>2.000000</td>\n",
              "      <td>2.000000</td>\n",
              "    </tr>\n",
              "    <tr>\n",
              "      <th>item_id</th>\n",
              "      <td>27.000000</td>\n",
              "      <td>28.000000</td>\n",
              "      <td>29.0</td>\n",
              "      <td>30.000000</td>\n",
              "      <td>31.000000</td>\n",
              "    </tr>\n",
              "    <tr>\n",
              "      <th>item_cnt_month</th>\n",
              "      <td>0.000000</td>\n",
              "      <td>0.000000</td>\n",
              "      <td>0.0</td>\n",
              "      <td>0.000000</td>\n",
              "      <td>0.000000</td>\n",
              "    </tr>\n",
              "    <tr>\n",
              "      <th>shop_category</th>\n",
              "      <td>4.000000</td>\n",
              "      <td>4.000000</td>\n",
              "      <td>4.0</td>\n",
              "      <td>4.000000</td>\n",
              "      <td>4.000000</td>\n",
              "    </tr>\n",
              "    <tr>\n",
              "      <th>shop_city</th>\n",
              "      <td>0.000000</td>\n",
              "      <td>0.000000</td>\n",
              "      <td>0.0</td>\n",
              "      <td>0.000000</td>\n",
              "      <td>0.000000</td>\n",
              "    </tr>\n",
              "    <tr>\n",
              "      <th>item_category_id</th>\n",
              "      <td>19.000000</td>\n",
              "      <td>30.000000</td>\n",
              "      <td>23.0</td>\n",
              "      <td>40.000000</td>\n",
              "      <td>37.000000</td>\n",
              "    </tr>\n",
              "    <tr>\n",
              "      <th>name</th>\n",
              "      <td>60.000000</td>\n",
              "      <td>77.000000</td>\n",
              "      <td>90.0</td>\n",
              "      <td>4.000000</td>\n",
              "      <td>4.000000</td>\n",
              "    </tr>\n",
              "    <tr>\n",
              "      <th>subtype_code</th>\n",
              "      <td>10.000000</td>\n",
              "      <td>55.000000</td>\n",
              "      <td>16.0</td>\n",
              "      <td>4.000000</td>\n",
              "      <td>1.000000</td>\n",
              "    </tr>\n",
              "    <tr>\n",
              "      <th>item_type</th>\n",
              "      <td>3.000000</td>\n",
              "      <td>3.000000</td>\n",
              "      <td>3.0</td>\n",
              "      <td>5.000000</td>\n",
              "      <td>5.000000</td>\n",
              "    </tr>\n",
              "    <tr>\n",
              "      <th>item_cnt_month_lag_1</th>\n",
              "      <td>0.000000</td>\n",
              "      <td>0.000000</td>\n",
              "      <td>NaN</td>\n",
              "      <td>0.000000</td>\n",
              "      <td>1.000000</td>\n",
              "    </tr>\n",
              "    <tr>\n",
              "      <th>item_cnt_month_lag_2</th>\n",
              "      <td>0.000000</td>\n",
              "      <td>0.000000</td>\n",
              "      <td>NaN</td>\n",
              "      <td>1.000000</td>\n",
              "      <td>1.000000</td>\n",
              "    </tr>\n",
              "    <tr>\n",
              "      <th>item_cnt_month_lag_3</th>\n",
              "      <td>0.000000</td>\n",
              "      <td>0.000000</td>\n",
              "      <td>NaN</td>\n",
              "      <td>0.000000</td>\n",
              "      <td>4.000000</td>\n",
              "    </tr>\n",
              "    <tr>\n",
              "      <th>date_avg_item_cnt_lag_1</th>\n",
              "      <td>0.286865</td>\n",
              "      <td>0.286865</td>\n",
              "      <td>NaN</td>\n",
              "      <td>0.286865</td>\n",
              "      <td>0.286865</td>\n",
              "    </tr>\n",
              "    <tr>\n",
              "      <th>date_item_avg_item_cnt_lag_1</th>\n",
              "      <td>0.021744</td>\n",
              "      <td>0.130493</td>\n",
              "      <td>NaN</td>\n",
              "      <td>2.826172</td>\n",
              "      <td>1.260742</td>\n",
              "    </tr>\n",
              "    <tr>\n",
              "      <th>date_item_avg_item_cnt_lag_2</th>\n",
              "      <td>0.086975</td>\n",
              "      <td>0.152222</td>\n",
              "      <td>NaN</td>\n",
              "      <td>11.046875</td>\n",
              "      <td>4.781250</td>\n",
              "    </tr>\n",
              "    <tr>\n",
              "      <th>date_item_avg_item_cnt_lag_3</th>\n",
              "      <td>0.065247</td>\n",
              "      <td>0.173950</td>\n",
              "      <td>NaN</td>\n",
              "      <td>18.734375</td>\n",
              "      <td>13.648438</td>\n",
              "    </tr>\n",
              "    <tr>\n",
              "      <th>date_shop_avg_item_cnt_lag_1</th>\n",
              "      <td>0.071838</td>\n",
              "      <td>0.071838</td>\n",
              "      <td>NaN</td>\n",
              "      <td>0.071838</td>\n",
              "      <td>0.071838</td>\n",
              "    </tr>\n",
              "    <tr>\n",
              "      <th>date_shop_avg_item_cnt_lag_2</th>\n",
              "      <td>0.091064</td>\n",
              "      <td>0.091064</td>\n",
              "      <td>NaN</td>\n",
              "      <td>0.091064</td>\n",
              "      <td>0.091064</td>\n",
              "    </tr>\n",
              "    <tr>\n",
              "      <th>date_shop_avg_item_cnt_lag_3</th>\n",
              "      <td>0.059875</td>\n",
              "      <td>0.059875</td>\n",
              "      <td>NaN</td>\n",
              "      <td>0.059875</td>\n",
              "      <td>0.059875</td>\n",
              "    </tr>\n",
              "    <tr>\n",
              "      <th>date_shop_item_avg_item_cnt_lag_1</th>\n",
              "      <td>0.000000</td>\n",
              "      <td>0.000000</td>\n",
              "      <td>NaN</td>\n",
              "      <td>0.000000</td>\n",
              "      <td>1.000000</td>\n",
              "    </tr>\n",
              "    <tr>\n",
              "      <th>date_shop_item_avg_item_cnt_lag_2</th>\n",
              "      <td>0.000000</td>\n",
              "      <td>0.000000</td>\n",
              "      <td>NaN</td>\n",
              "      <td>1.000000</td>\n",
              "      <td>1.000000</td>\n",
              "    </tr>\n",
              "    <tr>\n",
              "      <th>date_shop_item_avg_item_cnt_lag_3</th>\n",
              "      <td>0.000000</td>\n",
              "      <td>0.000000</td>\n",
              "      <td>NaN</td>\n",
              "      <td>0.000000</td>\n",
              "      <td>4.000000</td>\n",
              "    </tr>\n",
              "    <tr>\n",
              "      <th>date_shop_subtype_avg_item_cnt_lag_1</th>\n",
              "      <td>0.449463</td>\n",
              "      <td>0.387207</td>\n",
              "      <td>NaN</td>\n",
              "      <td>0.018585</td>\n",
              "      <td>0.035919</td>\n",
              "    </tr>\n",
              "    <tr>\n",
              "      <th>date_city_avg_item_cnt_lag_1</th>\n",
              "      <td>0.071838</td>\n",
              "      <td>0.071838</td>\n",
              "      <td>NaN</td>\n",
              "      <td>0.071838</td>\n",
              "      <td>0.071838</td>\n",
              "    </tr>\n",
              "    <tr>\n",
              "      <th>date_item_city_avg_item_cnt_lag_1</th>\n",
              "      <td>0.000000</td>\n",
              "      <td>0.000000</td>\n",
              "      <td>NaN</td>\n",
              "      <td>0.000000</td>\n",
              "      <td>1.000000</td>\n",
              "    </tr>\n",
              "    <tr>\n",
              "      <th>delta_price_lag</th>\n",
              "      <td>0.367676</td>\n",
              "      <td>0.256348</td>\n",
              "      <td>0.0</td>\n",
              "      <td>0.212402</td>\n",
              "      <td>0.191040</td>\n",
              "    </tr>\n",
              "    <tr>\n",
              "      <th>delta_revenue_lag_1</th>\n",
              "      <td>37326.816406</td>\n",
              "      <td>37326.816406</td>\n",
              "      <td>NaN</td>\n",
              "      <td>37326.816406</td>\n",
              "      <td>37326.816406</td>\n",
              "    </tr>\n",
              "    <tr>\n",
              "      <th>month</th>\n",
              "      <td>4.000000</td>\n",
              "      <td>4.000000</td>\n",
              "      <td>4.0</td>\n",
              "      <td>4.000000</td>\n",
              "      <td>4.000000</td>\n",
              "    </tr>\n",
              "    <tr>\n",
              "      <th>days</th>\n",
              "      <td>31.000000</td>\n",
              "      <td>31.000000</td>\n",
              "      <td>31.0</td>\n",
              "      <td>31.000000</td>\n",
              "      <td>31.000000</td>\n",
              "    </tr>\n",
              "    <tr>\n",
              "      <th>item_shop_first_sale</th>\n",
              "      <td>4.000000</td>\n",
              "      <td>4.000000</td>\n",
              "      <td>4.0</td>\n",
              "      <td>3.000000</td>\n",
              "      <td>3.000000</td>\n",
              "    </tr>\n",
              "    <tr>\n",
              "      <th>item_first_sale</th>\n",
              "      <td>4.000000</td>\n",
              "      <td>4.000000</td>\n",
              "      <td>4.0</td>\n",
              "      <td>3.000000</td>\n",
              "      <td>3.000000</td>\n",
              "    </tr>\n",
              "  </tbody>\n",
              "</table>\n",
              "</div>"
            ],
            "text/plain": [
              "                                           1497465  ...       1497469\n",
              "date_block_num                            4.000000  ...      4.000000\n",
              "shop_id                                   2.000000  ...      2.000000\n",
              "item_id                                  27.000000  ...     31.000000\n",
              "item_cnt_month                            0.000000  ...      0.000000\n",
              "shop_category                             4.000000  ...      4.000000\n",
              "shop_city                                 0.000000  ...      0.000000\n",
              "item_category_id                         19.000000  ...     37.000000\n",
              "name                                     60.000000  ...      4.000000\n",
              "subtype_code                             10.000000  ...      1.000000\n",
              "item_type                                 3.000000  ...      5.000000\n",
              "item_cnt_month_lag_1                      0.000000  ...      1.000000\n",
              "item_cnt_month_lag_2                      0.000000  ...      1.000000\n",
              "item_cnt_month_lag_3                      0.000000  ...      4.000000\n",
              "date_avg_item_cnt_lag_1                   0.286865  ...      0.286865\n",
              "date_item_avg_item_cnt_lag_1              0.021744  ...      1.260742\n",
              "date_item_avg_item_cnt_lag_2              0.086975  ...      4.781250\n",
              "date_item_avg_item_cnt_lag_3              0.065247  ...     13.648438\n",
              "date_shop_avg_item_cnt_lag_1              0.071838  ...      0.071838\n",
              "date_shop_avg_item_cnt_lag_2              0.091064  ...      0.091064\n",
              "date_shop_avg_item_cnt_lag_3              0.059875  ...      0.059875\n",
              "date_shop_item_avg_item_cnt_lag_1         0.000000  ...      1.000000\n",
              "date_shop_item_avg_item_cnt_lag_2         0.000000  ...      1.000000\n",
              "date_shop_item_avg_item_cnt_lag_3         0.000000  ...      4.000000\n",
              "date_shop_subtype_avg_item_cnt_lag_1      0.449463  ...      0.035919\n",
              "date_city_avg_item_cnt_lag_1              0.071838  ...      0.071838\n",
              "date_item_city_avg_item_cnt_lag_1         0.000000  ...      1.000000\n",
              "delta_price_lag                           0.367676  ...      0.191040\n",
              "delta_revenue_lag_1                   37326.816406  ...  37326.816406\n",
              "month                                     4.000000  ...      4.000000\n",
              "days                                     31.000000  ...     31.000000\n",
              "item_shop_first_sale                      4.000000  ...      3.000000\n",
              "item_first_sale                           4.000000  ...      3.000000\n",
              "\n",
              "[32 rows x 5 columns]"
            ]
          },
          "metadata": {
            "tags": []
          },
          "execution_count": 50
        }
      ]
    }
  ]
}