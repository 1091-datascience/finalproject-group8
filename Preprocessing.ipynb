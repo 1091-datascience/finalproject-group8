{
 "cells": [
  {
   "cell_type": "code",
   "execution_count": 3,
   "metadata": {
    "execution": {
     "iopub.execute_input": "2020-09-24T18:05:12.214813Z",
     "iopub.status.busy": "2020-09-24T18:05:12.214061Z",
     "iopub.status.idle": "2020-09-24T18:05:13.239295Z",
     "shell.execute_reply": "2020-09-24T18:05:13.238451Z"
    },
    "papermill": {
     "duration": 1.079557,
     "end_time": "2020-09-24T18:05:13.239409",
     "exception": false,
     "start_time": "2020-09-24T18:05:12.159852",
     "status": "completed"
    },
    "tags": []
   },
   "outputs": [],
   "source": [
    "import numpy as np \n",
    "import pandas as pd \n",
    "import matplotlib.pyplot as plt\n",
    "import seaborn as sns\n",
    "import time\n",
    "sns.set_theme(style=\"whitegrid\")\n",
    "import os"
   ]
  },
  {
   "cell_type": "code",
   "execution_count": 4,
   "metadata": {
    "execution": {
     "iopub.execute_input": "2020-09-24T18:05:13.441550Z",
     "iopub.status.busy": "2020-09-24T18:05:13.440409Z",
     "iopub.status.idle": "2020-09-24T18:05:15.501222Z",
     "shell.execute_reply": "2020-09-24T18:05:15.499929Z"
    },
    "papermill": {
     "duration": 2.119935,
     "end_time": "2020-09-24T18:05:15.501372",
     "exception": false,
     "start_time": "2020-09-24T18:05:13.381437",
     "status": "completed"
    },
    "tags": []
   },
   "outputs": [],
   "source": [
    "# load data\n",
    "items=pd.read_csv(\"input/competitive-data-science-predict-future-sales/items.csv\")\n",
    "shops=pd.read_csv(\"input/competitive-data-science-predict-future-sales/shops.csv\")\n",
    "cats=pd.read_csv(\"input/competitive-data-science-predict-future-sales/item_categories.csv\")\n",
    "train=pd.read_csv(\"input/competitive-data-science-predict-future-sales/sales_train.csv\")\n",
    "test=pd.read_csv(\"input/competitive-data-science-predict-future-sales/test.csv\")"
   ]
  },
  {
   "cell_type": "markdown",
   "metadata": {
    "papermill": {
     "duration": 0.077305,
     "end_time": "2020-09-24T18:05:15.737317",
     "exception": false,
     "start_time": "2020-09-24T18:05:15.660012",
     "status": "completed"
    },
    "tags": []
   },
   "source": [
    "# Remove outliers"
   ]
  },
  {
   "cell_type": "code",
   "execution_count": 3,
   "metadata": {},
   "outputs": [
    {
     "data": {
      "text/plain": [
       "<AxesSubplot:xlabel='item_cnt_day'>"
      ]
     },
     "execution_count": 3,
     "metadata": {},
     "output_type": "execute_result"
    },
    {
     "data": {
      "image/png": "[encoded data removed]",
      "text/plain": [
       "<Figure size 720x288 with 1 Axes>"
      ]
     },
     "metadata": {
      "needs_background": "light"
     },
     "output_type": "display_data"
    }
   ],
   "source": [
    "plt.figure(figsize=(10,4))\n",
    "plt.xlim(-100, 3000)\n",
    "flierprops = dict(marker='o', markerfacecolor='purple', markersize=6,\n",
    "                  linestyle='none', markeredgecolor='black')\n",
    "sns.boxplot(x=train.item_cnt_day, flierprops=flierprops)"
   ]
  },
  {
   "cell_type": "code",
   "execution_count": 4,
   "metadata": {
    "execution": {
     "iopub.execute_input": "2020-09-24T18:05:15.926168Z",
     "iopub.status.busy": "2020-09-24T18:05:15.925057Z",
     "iopub.status.idle": "2020-09-24T18:05:18.231512Z",
     "shell.execute_reply": "2020-09-24T18:05:18.230610Z"
    },
    "papermill": {
     "duration": 2.399282,
     "end_time": "2020-09-24T18:05:18.231652",
     "exception": false,
     "start_time": "2020-09-24T18:05:15.832370",
     "status": "completed"
    },
    "tags": []
   },
   "outputs": [
    {
     "data": {
      "text/plain": [
       "<AxesSubplot:xlabel='item_price'>"
      ]
     },
     "execution_count": 4,
     "metadata": {},
     "output_type": "execute_result"
    },
    {
     "data": {
      "image/png": "[encoded data removed]",
      "text/plain": [
       "<Figure size 720x288 with 1 Axes>"
      ]
     },
     "metadata": {
      "needs_background": "light"
     },
     "output_type": "display_data"
    },
    {
     "data": {
      "image/png": "[encoded data removed]",
      "text/plain": [
       "<Figure size 720x288 with 1 Axes>"
      ]
     },
     "metadata": {
      "needs_background": "light"
     },
     "output_type": "display_data"
    }
   ],
   "source": [
    "plt.figure(figsize=(10,4))\n",
    "plt.xlim(-100, 3000)\n",
    "flierprops = dict(marker='o', markerfacecolor='purple', markersize=6,\n",
    "                  linestyle='none', markeredgecolor='black')\n",
    "sns.boxplot(x=train.item_cnt_day, flierprops=flierprops)\n",
    "\n",
    "plt.figure(figsize=(10,4))\n",
    "plt.xlim(train.item_price.min(), train.item_price.max()*1.1)\n",
    "sns.boxplot(x=train.item_price, flierprops=flierprops)"
   ]
  },
  {
   "cell_type": "markdown",
   "metadata": {
    "papermill": {
     "duration": 0.053812,
     "end_time": "2020-09-24T18:05:18.340061",
     "exception": false,
     "start_time": "2020-09-24T18:05:18.286249",
     "status": "completed"
    },
    "tags": []
   },
   "source": [
    "We'll remove the obvious outliers in the dataset - the items that sold more than 1000 in one day and the item with price greater than 300,000."
   ]
  },
  {
   "cell_type": "code",
   "execution_count": 5,
   "metadata": {
    "execution": {
     "iopub.execute_input": "2020-09-24T18:05:18.443683Z",
     "iopub.status.busy": "2020-09-24T18:05:18.442794Z",
     "iopub.status.idle": "2020-09-24T18:05:18.621811Z",
     "shell.execute_reply": "2020-09-24T18:05:18.621240Z"
    },
    "papermill": {
     "duration": 0.232261,
     "end_time": "2020-09-24T18:05:18.621917",
     "exception": false,
     "start_time": "2020-09-24T18:05:18.389656",
     "status": "completed"
    },
    "tags": []
   },
   "outputs": [],
   "source": [
    "train = train[(train.item_price < 300000 )& (train.item_cnt_day < 1000)]"
   ]
  },
  {
   "cell_type": "markdown",
   "metadata": {
    "papermill": {
     "duration": 0.054437,
     "end_time": "2020-09-24T18:05:18.754670",
     "exception": false,
     "start_time": "2020-09-24T18:05:18.700233",
     "status": "completed"
    },
    "tags": []
   },
   "source": [
    "Remove any rows from train where item price is negative - these could be refunds. Also make zero and item_cnt_day values less than one, to remove negative values."
   ]
  },
  {
   "cell_type": "code",
   "execution_count": 6,
   "metadata": {
    "execution": {
     "iopub.execute_input": "2020-09-24T18:05:18.896596Z",
     "iopub.status.busy": "2020-09-24T18:05:18.895530Z",
     "iopub.status.idle": "2020-09-24T18:05:19.173249Z",
     "shell.execute_reply": "2020-09-24T18:05:19.174202Z"
    },
    "papermill": {
     "duration": 0.366148,
     "end_time": "2020-09-24T18:05:19.174403",
     "exception": false,
     "start_time": "2020-09-24T18:05:18.808255",
     "status": "completed"
    },
    "tags": []
   },
   "outputs": [],
   "source": [
    "train = train[train.item_price > 0].reset_index(drop = True)\n",
    "train.loc[train.item_cnt_day < 1, \"item_cnt_day\"] = 0"
   ]
  },
  {
   "cell_type": "markdown",
   "metadata": {
    "papermill": {
     "duration": 0.071253,
     "end_time": "2020-09-24T18:05:19.314814",
     "exception": false,
     "start_time": "2020-09-24T18:05:19.243561",
     "status": "completed"
    },
    "tags": []
   },
   "source": [
    "# Cleaning Shop Data"
   ]
  },
  {
   "cell_type": "markdown",
   "metadata": {
    "papermill": {
     "duration": 0.047805,
     "end_time": "2020-09-24T18:05:19.415328",
     "exception": false,
     "start_time": "2020-09-24T18:05:19.367523",
     "status": "completed"
    },
    "tags": []
   },
   "source": [
    "Several of the shops look like duplicates of each other. This could be down to shops re-opening or possibly moving store location on the same street or shopping centre."
   ]
  },
  {
   "cell_type": "code",
   "execution_count": 7,
   "metadata": {
    "execution": {
     "iopub.execute_input": "2020-09-24T18:05:19.524580Z",
     "iopub.status.busy": "2020-09-24T18:05:19.523654Z",
     "iopub.status.idle": "2020-09-24T18:05:19.602024Z",
     "shell.execute_reply": "2020-09-24T18:05:19.601292Z"
    },
    "papermill": {
     "duration": 0.137389,
     "end_time": "2020-09-24T18:05:19.602156",
     "exception": false,
     "start_time": "2020-09-24T18:05:19.464767",
     "status": "completed"
    },
    "tags": []
   },
   "outputs": [],
   "source": [
    "train.loc[train.shop_id == 0, 'shop_id'] = 57\n",
    "test.loc[test.shop_id == 0, 'shop_id'] = 57\n",
    "train.loc[train.shop_id == 1, 'shop_id'] = 58\n",
    "test.loc[test.shop_id == 1, 'shop_id'] = 58\n",
    "train.loc[train.shop_id == 10, 'shop_id'] = 11\n",
    "test.loc[test.shop_id == 10, 'shop_id'] = 11"
   ]
  },
  {
   "cell_type": "markdown",
   "metadata": {
    "papermill": {
     "duration": 0.052383,
     "end_time": "2020-09-24T18:05:19.707955",
     "exception": false,
     "start_time": "2020-09-24T18:05:19.655572",
     "status": "completed"
    },
    "tags": []
   },
   "source": [
    "Clean up some shop names and add 'city' and 'category' to shops df."
   ]
  },
  {
   "cell_type": "code",
   "execution_count": 8,
   "metadata": {
    "execution": {
     "iopub.execute_input": "2020-09-24T18:05:19.811450Z",
     "iopub.status.busy": "2020-09-24T18:05:19.810461Z",
     "iopub.status.idle": "2020-09-24T18:05:19.822563Z",
     "shell.execute_reply": "2020-09-24T18:05:19.822001Z"
    },
    "papermill": {
     "duration": 0.063811,
     "end_time": "2020-09-24T18:05:19.822666",
     "exception": false,
     "start_time": "2020-09-24T18:05:19.758855",
     "status": "completed"
    },
    "tags": []
   },
   "outputs": [],
   "source": [
    "shops.loc[ shops.shop_name == 'Сергиев Посад ТЦ \"7Я\"',\"shop_name\" ] = 'СергиевПосад ТЦ \"7Я\"'\n",
    "shops[\"city\"] = shops.shop_name.str.split(\" \").map( lambda x: x[0] )\n",
    "shops[\"category\"] = shops.shop_name.str.split(\" \").map( lambda x: x[1] )\n",
    "shops.loc[shops.city == \"!Якутск\", \"city\"] = \"Якутск\""
   ]
  },
  {
   "cell_type": "markdown",
   "metadata": {
    "papermill": {
     "duration": 0.05058,
     "end_time": "2020-09-24T18:05:19.923213",
     "exception": false,
     "start_time": "2020-09-24T18:05:19.872633",
     "status": "completed"
    },
    "tags": []
   },
   "source": [
    "Only keep shop category if there are 5 or more shops of that category, the rest are grouped as \"other\"."
   ]
  },
  {
   "cell_type": "code",
   "execution_count": 9,
   "metadata": {
    "execution": {
     "iopub.execute_input": "2020-09-24T18:05:20.043001Z",
     "iopub.status.busy": "2020-09-24T18:05:20.042212Z",
     "iopub.status.idle": "2020-09-24T18:05:20.044775Z",
     "shell.execute_reply": "2020-09-24T18:05:20.045288Z"
    },
    "papermill": {
     "duration": 0.07173,
     "end_time": "2020-09-24T18:05:20.045425",
     "exception": false,
     "start_time": "2020-09-24T18:05:19.973695",
     "status": "completed"
    },
    "tags": []
   },
   "outputs": [],
   "source": [
    "category = []\n",
    "for cat in shops.category.unique():\n",
    "    if len(shops[shops.category == cat]) >= 5:\n",
    "        category.append(cat)\n",
    "shops.category = shops.category.apply( lambda x: x if (x in category) else \"other\" )"
   ]
  },
  {
   "cell_type": "code",
   "execution_count": 10,
   "metadata": {
    "execution": {
     "iopub.execute_input": "2020-09-24T18:05:20.154707Z",
     "iopub.status.busy": "2020-09-24T18:05:20.153924Z",
     "iopub.status.idle": "2020-09-24T18:05:20.222055Z",
     "shell.execute_reply": "2020-09-24T18:05:20.221429Z"
    },
    "papermill": {
     "duration": 0.125124,
     "end_time": "2020-09-24T18:05:20.222204",
     "exception": false,
     "start_time": "2020-09-24T18:05:20.097080",
     "status": "completed"
    },
    "tags": []
   },
   "outputs": [],
   "source": [
    "from sklearn.preprocessing import LabelEncoder\n",
    "shops[\"shop_category\"] = LabelEncoder().fit_transform( shops.category )\n",
    "shops[\"shop_city\"] = LabelEncoder().fit_transform( shops.city )\n",
    "shops = shops[[\"shop_id\", \"shop_category\", \"shop_city\"]]"
   ]
  },
  {
   "cell_type": "markdown",
   "metadata": {
    "papermill": {
     "duration": 0.049196,
     "end_time": "2020-09-24T18:05:20.322636",
     "exception": false,
     "start_time": "2020-09-24T18:05:20.273440",
     "status": "completed"
    },
    "tags": []
   },
   "source": [
    "# Cleaning Item Category Data"
   ]
  },
  {
   "cell_type": "code",
   "execution_count": 11,
   "metadata": {
    "execution": {
     "iopub.execute_input": "2020-09-24T18:05:20.430941Z",
     "iopub.status.busy": "2020-09-24T18:05:20.430063Z",
     "iopub.status.idle": "2020-09-24T18:05:20.433866Z",
     "shell.execute_reply": "2020-09-24T18:05:20.433362Z"
    },
    "papermill": {
     "duration": 0.06246,
     "end_time": "2020-09-24T18:05:20.433965",
     "exception": false,
     "start_time": "2020-09-24T18:05:20.371505",
     "status": "completed"
    },
    "tags": []
   },
   "outputs": [],
   "source": [
    "cats[\"type_code\"] = cats.item_category_name.apply( lambda x: x.split(\" \")[0] ).astype(str)\n",
    "cats.loc[ (cats.type_code == \"Игровые\")| (cats.type_code == \"Аксессуары\"), \"category\" ] = \"Игры\""
   ]
  },
  {
   "cell_type": "code",
   "execution_count": 12,
   "metadata": {
    "execution": {
     "iopub.execute_input": "2020-09-24T18:05:20.548520Z",
     "iopub.status.busy": "2020-09-24T18:05:20.547047Z",
     "iopub.status.idle": "2020-09-24T18:05:20.549691Z",
     "shell.execute_reply": "2020-09-24T18:05:20.550215Z"
    },
    "papermill": {
     "duration": 0.06636,
     "end_time": "2020-09-24T18:05:20.550334",
     "exception": false,
     "start_time": "2020-09-24T18:05:20.483974",
     "status": "completed"
    },
    "tags": []
   },
   "outputs": [],
   "source": [
    "category = []\n",
    "for cat in cats.type_code.unique():\n",
    "    if len(cats[cats.type_code == cat]) >= 5: \n",
    "        category.append( cat )\n",
    "cats.type_code = cats.type_code.apply(lambda x: x if (x in category) else \"etc\")"
   ]
  },
  {
   "cell_type": "code",
   "execution_count": 13,
   "metadata": {
    "execution": {
     "iopub.execute_input": "2020-09-24T18:05:20.683305Z",
     "iopub.status.busy": "2020-09-24T18:05:20.682039Z",
     "iopub.status.idle": "2020-09-24T18:05:20.686771Z",
     "shell.execute_reply": "2020-09-24T18:05:20.687301Z"
    },
    "papermill": {
     "duration": 0.088247,
     "end_time": "2020-09-24T18:05:20.687427",
     "exception": false,
     "start_time": "2020-09-24T18:05:20.599180",
     "status": "completed"
    },
    "tags": []
   },
   "outputs": [],
   "source": [
    "cats.type_code = LabelEncoder().fit_transform(cats.type_code)\n",
    "cats[\"split\"] = cats.item_category_name.apply(lambda x: x.split(\"-\"))\n",
    "cats[\"subtype\"] = cats.split.apply(lambda x: x[1].strip() if len(x) > 1 else x[0].strip())\n",
    "cats[\"subtype_code\"] = LabelEncoder().fit_transform( cats[\"subtype\"] )\n",
    "cats = cats[[\"item_category_id\", \"subtype_code\", \"type_code\"]]"
   ]
  },
  {
   "cell_type": "markdown",
   "metadata": {
    "papermill": {
     "duration": 0.050469,
     "end_time": "2020-09-24T18:05:20.793686",
     "exception": false,
     "start_time": "2020-09-24T18:05:20.743217",
     "status": "completed"
    },
    "tags": []
   },
   "source": [
    "# Cleaning Item Data"
   ]
  },
  {
   "cell_type": "code",
   "execution_count": 14,
   "metadata": {
    "execution": {
     "iopub.execute_input": "2020-09-24T18:05:20.900018Z",
     "iopub.status.busy": "2020-09-24T18:05:20.899097Z",
     "iopub.status.idle": "2020-09-24T18:05:20.903389Z",
     "shell.execute_reply": "2020-09-24T18:05:20.902902Z"
    },
    "papermill": {
     "duration": 0.060132,
     "end_time": "2020-09-24T18:05:20.903491",
     "exception": false,
     "start_time": "2020-09-24T18:05:20.843359",
     "status": "completed"
    },
    "tags": []
   },
   "outputs": [],
   "source": [
    "import re\n",
    "def name_correction(x):\n",
    "    x = x.lower() # all letters lower case\n",
    "    x = x.partition('[')[0] # partition by square brackets\n",
    "    x = x.partition('(')[0] # partition by curly brackets\n",
    "    x = re.sub('[^A-Za-z0-9А-Яа-я]+', ' ', x) # remove special characters\n",
    "    x = x.replace('  ', ' ') # replace double spaces with single spaces\n",
    "    x = x.strip() # remove leading and trailing white space\n",
    "    return x"
   ]
  },
  {
   "cell_type": "markdown",
   "metadata": {
    "papermill": {
     "duration": 0.05215,
     "end_time": "2020-09-24T18:05:21.006757",
     "exception": false,
     "start_time": "2020-09-24T18:05:20.954607",
     "status": "completed"
    },
    "tags": []
   },
   "source": [
    "Clean item names."
   ]
  },
  {
   "cell_type": "code",
   "execution_count": 15,
   "metadata": {
    "execution": {
     "iopub.execute_input": "2020-09-24T18:05:21.215922Z",
     "iopub.status.busy": "2020-09-24T18:05:21.133047Z",
     "iopub.status.idle": "2020-09-24T18:05:21.575019Z",
     "shell.execute_reply": "2020-09-24T18:05:21.574397Z"
    },
    "papermill": {
     "duration": 0.51829,
     "end_time": "2020-09-24T18:05:21.575145",
     "exception": false,
     "start_time": "2020-09-24T18:05:21.056855",
     "status": "completed"
    },
    "tags": []
   },
   "outputs": [
    {
     "name": "stderr",
     "output_type": "stream",
     "text": [
      "C:\\Users\\tuna8\\Anaconda3_New\\envs\\DataScience\\lib\\site-packages\\ipykernel_launcher.py:2: FutureWarning: Columnar iteration over characters will be deprecated in future releases.\n",
      "  \n",
      "C:\\Users\\tuna8\\Anaconda3_New\\envs\\DataScience\\lib\\site-packages\\ipykernel_launcher.py:3: FutureWarning: Columnar iteration over characters will be deprecated in future releases.\n",
      "  This is separate from the ipykernel package so we can avoid doing imports until\n"
     ]
    }
   ],
   "source": [
    "# split item names by first bracket\n",
    "items[\"name1\"], items[\"name2\"] = items.item_name.str.split(\"[\", 1).str\n",
    "items[\"name1\"], items[\"name3\"] = items.item_name.str.split(\"(\", 1).str\n",
    "\n",
    "# replace special characters and turn to lower case\n",
    "items[\"name2\"] = items.name2.str.replace('[^A-Za-z0-9А-Яа-я]+', \" \").str.lower()\n",
    "items[\"name3\"] = items.name3.str.replace('[^A-Za-z0-9А-Яа-я]+', \" \").str.lower()\n",
    "\n",
    "# fill nulls with '0'\n",
    "items = items.fillna('0')\n",
    "\n",
    "items[\"item_name\"] = items[\"item_name\"].apply(lambda x: name_correction(x))\n",
    "\n",
    "# return all characters except the last if name 2 is not \"0\" - the closing bracket\n",
    "items.name2 = items.name2.apply( lambda x: x[:-1] if x !=\"0\" else \"0\")"
   ]
  },
  {
   "cell_type": "markdown",
   "metadata": {
    "papermill": {
     "duration": 0.05004,
     "end_time": "2020-09-24T18:05:21.676064",
     "exception": false,
     "start_time": "2020-09-24T18:05:21.626024",
     "status": "completed"
    },
    "tags": []
   },
   "source": [
    "Clean item type"
   ]
  },
  {
   "cell_type": "code",
   "execution_count": 16,
   "metadata": {
    "execution": {
     "iopub.execute_input": "2020-09-24T18:05:21.836531Z",
     "iopub.status.busy": "2020-09-24T18:05:21.822212Z",
     "iopub.status.idle": "2020-09-24T18:05:21.871605Z",
     "shell.execute_reply": "2020-09-24T18:05:21.871072Z"
    },
    "papermill": {
     "duration": 0.126081,
     "end_time": "2020-09-24T18:05:21.871716",
     "exception": false,
     "start_time": "2020-09-24T18:05:21.745635",
     "status": "completed"
    },
    "tags": []
   },
   "outputs": [],
   "source": [
    "items[\"type\"] = items.name2.apply(lambda x: x[0:8] if x.split(\" \")[0] == \"xbox\" else x.split(\" \")[0] )\n",
    "items.loc[(items.type == \"x360\") | (items.type == \"xbox360\") | (items.type == \"xbox 360\") ,\"type\"] = \"xbox 360\"\n",
    "items.loc[ items.type == \"\", \"type\"] = \"mac\"\n",
    "items.type = items.type.apply( lambda x: x.replace(\" \", \"\") )\n",
    "items.loc[ (items.type == 'pc' )| (items.type == 'pс') | (items.type == \"pc\"), \"type\" ] = \"pc\"\n",
    "items.loc[ items.type == 'рs3' , \"type\"] = \"ps3\""
   ]
  },
  {
   "cell_type": "code",
   "execution_count": 17,
   "metadata": {
    "execution": {
     "iopub.execute_input": "2020-09-24T18:05:21.992503Z",
     "iopub.status.busy": "2020-09-24T18:05:21.991559Z",
     "iopub.status.idle": "2020-09-24T18:05:22.025658Z",
     "shell.execute_reply": "2020-09-24T18:05:22.025164Z"
    },
    "papermill": {
     "duration": 0.101511,
     "end_time": "2020-09-24T18:05:22.025809",
     "exception": false,
     "start_time": "2020-09-24T18:05:21.924298",
     "status": "completed"
    },
    "tags": []
   },
   "outputs": [],
   "source": [
    "group_sum = items.groupby([\"type\"]).agg({\"item_id\": \"count\"})\n",
    "group_sum = group_sum.reset_index()\n",
    "drop_cols = []\n",
    "for cat in group_sum.type.unique():\n",
    "    if group_sum.loc[(group_sum.type == cat), \"item_id\"].values[0] <40:\n",
    "        drop_cols.append(cat)\n",
    "items.name2 = items.name2.apply( lambda x: \"other\" if (x in drop_cols) else x )\n",
    "items = items.drop([\"type\"], axis = 1)"
   ]
  },
  {
   "cell_type": "code",
   "execution_count": 18,
   "metadata": {
    "execution": {
     "iopub.execute_input": "2020-09-24T18:05:22.155582Z",
     "iopub.status.busy": "2020-09-24T18:05:22.154585Z",
     "iopub.status.idle": "2020-09-24T18:05:22.170723Z",
     "shell.execute_reply": "2020-09-24T18:05:22.171243Z"
    },
    "papermill": {
     "duration": 0.094094,
     "end_time": "2020-09-24T18:05:22.171370",
     "exception": false,
     "start_time": "2020-09-24T18:05:22.077276",
     "status": "completed"
    },
    "tags": []
   },
   "outputs": [
    {
     "data": {
      "text/html": [
       "<div>\n",
       "<style scoped>\n",
       "    .dataframe tbody tr th:only-of-type {\n",
       "        vertical-align: middle;\n",
       "    }\n",
       "\n",
       "    .dataframe tbody tr th {\n",
       "        vertical-align: top;\n",
       "    }\n",
       "\n",
       "    .dataframe thead th {\n",
       "        text-align: right;\n",
       "    }\n",
       "</style>\n",
       "<table border=\"1\" class=\"dataframe\">\n",
       "  <thead>\n",
       "    <tr style=\"text-align: right;\">\n",
       "      <th></th>\n",
       "      <th>item_id</th>\n",
       "      <th>item_category_id</th>\n",
       "      <th>name2</th>\n",
       "      <th>name3</th>\n",
       "    </tr>\n",
       "  </thead>\n",
       "  <tbody>\n",
       "    <tr>\n",
       "      <th>0</th>\n",
       "      <td>0</td>\n",
       "      <td>40</td>\n",
       "      <td>4</td>\n",
       "      <td>1331</td>\n",
       "    </tr>\n",
       "    <tr>\n",
       "      <th>1</th>\n",
       "      <td>1</td>\n",
       "      <td>76</td>\n",
       "      <td>64</td>\n",
       "      <td>42</td>\n",
       "    </tr>\n",
       "    <tr>\n",
       "      <th>2</th>\n",
       "      <td>2</td>\n",
       "      <td>40</td>\n",
       "      <td>4</td>\n",
       "      <td>1011</td>\n",
       "    </tr>\n",
       "    <tr>\n",
       "      <th>3</th>\n",
       "      <td>3</td>\n",
       "      <td>40</td>\n",
       "      <td>4</td>\n",
       "      <td>1010</td>\n",
       "    </tr>\n",
       "    <tr>\n",
       "      <th>4</th>\n",
       "      <td>4</td>\n",
       "      <td>40</td>\n",
       "      <td>4</td>\n",
       "      <td>1572</td>\n",
       "    </tr>\n",
       "  </tbody>\n",
       "</table>\n",
       "</div>"
      ],
      "text/plain": [
       "   item_id  item_category_id  name2  name3\n",
       "0        0                40      4   1331\n",
       "1        1                76     64     42\n",
       "2        2                40      4   1011\n",
       "3        3                40      4   1010\n",
       "4        4                40      4   1572"
      ]
     },
     "execution_count": 18,
     "metadata": {},
     "output_type": "execute_result"
    }
   ],
   "source": [
    "items.name2 = LabelEncoder().fit_transform(items.name2)\n",
    "items.name3 = LabelEncoder().fit_transform(items.name3)\n",
    "\n",
    "items.drop([\"item_name\", \"name1\"],axis = 1, inplace= True)\n",
    "items.head()"
   ]
  },
  {
   "cell_type": "markdown",
   "metadata": {
    "papermill": {
     "duration": 0.051668,
     "end_time": "2020-09-24T18:05:22.274181",
     "exception": false,
     "start_time": "2020-09-24T18:05:22.222513",
     "status": "completed"
    },
    "tags": []
   },
   "source": [
    "# Preprocessing\n",
    "\n",
    "Create a matrix df with every combination of month, shop and item in order of increasing month. Item_cnt_day is summed into an item_cnt_month."
   ]
  },
  {
   "cell_type": "code",
   "execution_count": 19,
   "metadata": {
    "execution": {
     "iopub.execute_input": "2020-09-24T18:05:22.390184Z",
     "iopub.status.busy": "2020-09-24T18:05:22.389206Z",
     "iopub.status.idle": "2020-09-24T18:05:42.022420Z",
     "shell.execute_reply": "2020-09-24T18:05:42.023296Z"
    },
    "papermill": {
     "duration": 19.697332,
     "end_time": "2020-09-24T18:05:42.023444",
     "exception": false,
     "start_time": "2020-09-24T18:05:22.326112",
     "status": "completed"
    },
    "tags": []
   },
   "outputs": [
    {
     "data": {
      "text/plain": [
       "16.82034158706665"
      ]
     },
     "execution_count": 19,
     "metadata": {},
     "output_type": "execute_result"
    }
   ],
   "source": [
    "from itertools import product\n",
    "import time\n",
    "ts = time.time()\n",
    "matrix = []\n",
    "cols  = [\"date_block_num\", \"shop_id\", \"item_id\"]\n",
    "for i in range(34):\n",
    "    sales = train[train.date_block_num == i]\n",
    "    matrix.append( np.array(list( product( [i], sales.shop_id.unique(), sales.item_id.unique() ) ), dtype = np.int16) )\n",
    "\n",
    "matrix = pd.DataFrame( np.vstack(matrix), columns = cols )\n",
    "matrix[\"date_block_num\"] = matrix[\"date_block_num\"].astype(np.int8)\n",
    "matrix[\"shop_id\"] = matrix[\"shop_id\"].astype(np.int8)\n",
    "matrix[\"item_id\"] = matrix[\"item_id\"].astype(np.int16)\n",
    "matrix.sort_values( cols, inplace = True )\n",
    "time.time()- ts"
   ]
  },
  {
   "cell_type": "code",
   "execution_count": 20,
   "metadata": {
    "execution": {
     "iopub.execute_input": "2020-09-24T18:05:42.141368Z",
     "iopub.status.busy": "2020-09-24T18:05:42.139939Z",
     "iopub.status.idle": "2020-09-24T18:05:42.152487Z",
     "shell.execute_reply": "2020-09-24T18:05:42.151972Z"
    },
    "papermill": {
     "duration": 0.078159,
     "end_time": "2020-09-24T18:05:42.152602",
     "exception": false,
     "start_time": "2020-09-24T18:05:42.074443",
     "status": "completed"
    },
    "tags": []
   },
   "outputs": [],
   "source": [
    "# add revenue to train df\n",
    "train[\"revenue\"] = train[\"item_cnt_day\"] * train[\"item_price\"]"
   ]
  },
  {
   "cell_type": "code",
   "execution_count": 21,
   "metadata": {
    "execution": {
     "iopub.execute_input": "2020-09-24T18:05:42.265442Z",
     "iopub.status.busy": "2020-09-24T18:05:42.264527Z",
     "iopub.status.idle": "2020-09-24T18:05:47.032630Z",
     "shell.execute_reply": "2020-09-24T18:05:47.033193Z"
    },
    "papermill": {
     "duration": 4.828567,
     "end_time": "2020-09-24T18:05:47.033335",
     "exception": false,
     "start_time": "2020-09-24T18:05:42.204768",
     "status": "completed"
    },
    "tags": []
   },
   "outputs": [
    {
     "data": {
      "text/plain": [
       "4.892394781112671"
      ]
     },
     "execution_count": 21,
     "metadata": {},
     "output_type": "execute_result"
    }
   ],
   "source": [
    "ts = time.time()\n",
    "group = train.groupby( [\"date_block_num\", \"shop_id\", \"item_id\"] ).agg( {\"item_cnt_day\": [\"sum\"]} )\n",
    "group.columns = [\"item_cnt_month\"]\n",
    "group.reset_index( inplace = True)\n",
    "matrix = pd.merge( matrix, group, on = cols, how = \"left\" )\n",
    "matrix[\"item_cnt_month\"] = matrix[\"item_cnt_month\"].fillna(0).astype(np.float16)\n",
    "time.time() - ts"
   ]
  },
  {
   "cell_type": "markdown",
   "metadata": {
    "papermill": {
     "duration": 0.05896,
     "end_time": "2020-09-24T18:05:47.145461",
     "exception": false,
     "start_time": "2020-09-24T18:05:47.086501",
     "status": "completed"
    },
    "tags": []
   },
   "source": [
    "Create a test set for month 34."
   ]
  },
  {
   "cell_type": "code",
   "execution_count": 22,
   "metadata": {
    "execution": {
     "iopub.execute_input": "2020-09-24T18:05:47.264426Z",
     "iopub.status.busy": "2020-09-24T18:05:47.262550Z",
     "iopub.status.idle": "2020-09-24T18:05:47.270921Z",
     "shell.execute_reply": "2020-09-24T18:05:47.270383Z"
    },
    "papermill": {
     "duration": 0.068433,
     "end_time": "2020-09-24T18:05:47.271061",
     "exception": false,
     "start_time": "2020-09-24T18:05:47.202628",
     "status": "completed"
    },
    "tags": []
   },
   "outputs": [],
   "source": [
    "test[\"date_block_num\"] = 34\n",
    "test[\"date_block_num\"] = test[\"date_block_num\"].astype(np.int8)\n",
    "test[\"shop_id\"] = test.shop_id.astype(np.int8)\n",
    "test[\"item_id\"] = test.item_id.astype(np.int16)"
   ]
  },
  {
   "cell_type": "markdown",
   "metadata": {
    "papermill": {
     "duration": 0.089725,
     "end_time": "2020-09-24T18:05:47.414183",
     "exception": false,
     "start_time": "2020-09-24T18:05:47.324458",
     "status": "completed"
    },
    "tags": []
   },
   "source": [
    "Concatenate train and test sets."
   ]
  },
  {
   "cell_type": "code",
   "execution_count": 23,
   "metadata": {
    "execution": {
     "iopub.execute_input": "2020-09-24T18:05:47.529000Z",
     "iopub.status.busy": "2020-09-24T18:05:47.528112Z",
     "iopub.status.idle": "2020-09-24T18:05:47.587364Z",
     "shell.execute_reply": "2020-09-24T18:05:47.586837Z"
    },
    "papermill": {
     "duration": 0.119624,
     "end_time": "2020-09-24T18:05:47.587477",
     "exception": false,
     "start_time": "2020-09-24T18:05:47.467853",
     "status": "completed"
    },
    "tags": []
   },
   "outputs": [
    {
     "data": {
      "text/plain": [
       "0.07203459739685059"
      ]
     },
     "execution_count": 23,
     "metadata": {},
     "output_type": "execute_result"
    }
   ],
   "source": [
    "ts = time.time()\n",
    "\n",
    "matrix = pd.concat([matrix, test.drop([\"ID\"],axis = 1)], ignore_index=True, sort=False, keys=cols)\n",
    "matrix.fillna( 0, inplace = True )\n",
    "time.time() - ts"
   ]
  },
  {
   "cell_type": "markdown",
   "metadata": {
    "papermill": {
     "duration": 0.055661,
     "end_time": "2020-09-24T18:05:47.697569",
     "exception": false,
     "start_time": "2020-09-24T18:05:47.641908",
     "status": "completed"
    },
    "tags": []
   },
   "source": [
    "Add shop, items and categories data onto matrix df."
   ]
  },
  {
   "cell_type": "code",
   "execution_count": 24,
   "metadata": {
    "_cell_guid": "79c7e3d0-c299-4dcb-8224-4455121ee9b0",
    "_uuid": "d629ff2d2480ee46fbb7e2d37f6b5fab8052498a",
    "execution": {
     "iopub.execute_input": "2020-09-24T18:05:47.822653Z",
     "iopub.status.busy": "2020-09-24T18:05:47.821399Z",
     "iopub.status.idle": "2020-09-24T18:05:52.385936Z",
     "shell.execute_reply": "2020-09-24T18:05:52.385455Z"
    },
    "papermill": {
     "duration": 4.630486,
     "end_time": "2020-09-24T18:05:52.386042",
     "exception": false,
     "start_time": "2020-09-24T18:05:47.755556",
     "status": "completed"
    },
    "tags": []
   },
   "outputs": [
    {
     "data": {
      "text/plain": [
       "5.17099666595459"
      ]
     },
     "execution_count": 24,
     "metadata": {},
     "output_type": "execute_result"
    }
   ],
   "source": [
    "ts = time.time()\n",
    "matrix = pd.merge( matrix, shops, on = [\"shop_id\"], how = \"left\" )\n",
    "matrix = pd.merge(matrix, items, on = [\"item_id\"], how = \"left\")\n",
    "matrix = pd.merge( matrix, cats, on = [\"item_category_id\"], how = \"left\" )\n",
    "matrix[\"shop_city\"] = matrix[\"shop_city\"].astype(np.int8)\n",
    "matrix[\"shop_category\"] = matrix[\"shop_category\"].astype(np.int8)\n",
    "matrix[\"item_category_id\"] = matrix[\"item_category_id\"].astype(np.int8)\n",
    "matrix[\"subtype_code\"] = matrix[\"subtype_code\"].astype(np.int8)\n",
    "matrix[\"name2\"] = matrix[\"name2\"].astype(np.int8)\n",
    "matrix[\"name3\"] = matrix[\"name3\"].astype(np.int16)\n",
    "matrix[\"type_code\"] = matrix[\"type_code\"].astype(np.int8)\n",
    "time.time() - ts"
   ]
  },
  {
   "cell_type": "markdown",
   "metadata": {
    "papermill": {
     "duration": 0.055935,
     "end_time": "2020-09-24T18:05:52.496733",
     "exception": false,
     "start_time": "2020-09-24T18:05:52.440798",
     "status": "completed"
    },
    "tags": []
   },
   "source": [
    "Feature Engineering\n",
    "\n",
    "* Add lag features to matrix df."
   ]
  },
  {
   "cell_type": "code",
   "execution_count": 25,
   "metadata": {
    "execution": {
     "iopub.execute_input": "2020-09-24T18:05:52.616342Z",
     "iopub.status.busy": "2020-09-24T18:05:52.614312Z",
     "iopub.status.idle": "2020-09-24T18:05:52.616990Z",
     "shell.execute_reply": "2020-09-24T18:05:52.617464Z"
    },
    "papermill": {
     "duration": 0.064944,
     "end_time": "2020-09-24T18:05:52.617610",
     "exception": false,
     "start_time": "2020-09-24T18:05:52.552666",
     "status": "completed"
    },
    "tags": []
   },
   "outputs": [],
   "source": [
    "# Define a lag feature function\n",
    "def lag_feature( df,lags, cols ):\n",
    "    for col in cols:\n",
    "        print(col)\n",
    "        tmp = df[[\"date_block_num\", \"shop_id\",\"item_id\",col ]]\n",
    "        for i in lags:\n",
    "            shifted = tmp.copy()\n",
    "            shifted.columns = [\"date_block_num\", \"shop_id\", \"item_id\", col + \"_lag_\"+str(i)]\n",
    "            shifted.date_block_num = shifted.date_block_num + i\n",
    "            df = pd.merge(df, shifted, on=['date_block_num','shop_id','item_id'], how='left')\n",
    "    return df"
   ]
  },
  {
   "cell_type": "markdown",
   "metadata": {
    "papermill": {
     "duration": 0.06349,
     "end_time": "2020-09-24T18:05:52.737236",
     "exception": false,
     "start_time": "2020-09-24T18:05:52.673746",
     "status": "completed"
    },
    "tags": []
   },
   "source": [
    "Add item_cnt_month lag features."
   ]
  },
  {
   "cell_type": "code",
   "execution_count": 26,
   "metadata": {
    "execution": {
     "iopub.execute_input": "2020-09-24T18:05:52.854252Z",
     "iopub.status.busy": "2020-09-24T18:05:52.852909Z",
     "iopub.status.idle": "2020-09-24T18:06:13.178554Z",
     "shell.execute_reply": "2020-09-24T18:06:13.178003Z"
    },
    "papermill": {
     "duration": 20.386493,
     "end_time": "2020-09-24T18:06:13.178658",
     "exception": false,
     "start_time": "2020-09-24T18:05:52.792165",
     "status": "completed"
    },
    "tags": []
   },
   "outputs": [
    {
     "name": "stdout",
     "output_type": "stream",
     "text": [
      "item_cnt_month\n"
     ]
    },
    {
     "data": {
      "text/plain": [
       "21.859238862991333"
      ]
     },
     "execution_count": 26,
     "metadata": {},
     "output_type": "execute_result"
    }
   ],
   "source": [
    "ts = time.time()\n",
    "matrix = lag_feature( matrix, [1,2,3], [\"item_cnt_month\"] )\n",
    "time.time() - ts"
   ]
  },
  {
   "cell_type": "markdown",
   "metadata": {
    "papermill": {
     "duration": 0.05754,
     "end_time": "2020-09-24T18:06:13.292753",
     "exception": false,
     "start_time": "2020-09-24T18:06:13.235213",
     "status": "completed"
    },
    "tags": []
   },
   "source": [
    "Add the previous month's average item_cnt."
   ]
  },
  {
   "cell_type": "code",
   "execution_count": 27,
   "metadata": {
    "execution": {
     "iopub.execute_input": "2020-09-24T18:06:13.415450Z",
     "iopub.status.busy": "2020-09-24T18:06:13.414562Z",
     "iopub.status.idle": "2020-09-24T18:06:23.931261Z",
     "shell.execute_reply": "2020-09-24T18:06:23.930711Z"
    },
    "papermill": {
     "duration": 10.580278,
     "end_time": "2020-09-24T18:06:23.931371",
     "exception": false,
     "start_time": "2020-09-24T18:06:13.351093",
     "status": "completed"
    },
    "tags": []
   },
   "outputs": [
    {
     "name": "stdout",
     "output_type": "stream",
     "text": [
      "date_avg_item_cnt\n"
     ]
    },
    {
     "data": {
      "text/plain": [
       "11.044994115829468"
      ]
     },
     "execution_count": 27,
     "metadata": {},
     "output_type": "execute_result"
    }
   ],
   "source": [
    "ts = time.time()\n",
    "group = matrix.groupby( [\"date_block_num\"] ).agg({\"item_cnt_month\" : [\"mean\"]})\n",
    "group.columns = [\"date_avg_item_cnt\"]\n",
    "group.reset_index(inplace = True)\n",
    "\n",
    "matrix = pd.merge(matrix, group, on = [\"date_block_num\"], how = \"left\")\n",
    "matrix.date_avg_item_cnt = matrix[\"date_avg_item_cnt\"].astype(np.float16)\n",
    "matrix = lag_feature( matrix, [1], [\"date_avg_item_cnt\"] )\n",
    "matrix.drop( [\"date_avg_item_cnt\"], axis = 1, inplace = True )\n",
    "time.time() - ts"
   ]
  },
  {
   "cell_type": "markdown",
   "metadata": {
    "papermill": {
     "duration": 0.059604,
     "end_time": "2020-09-24T18:06:24.049170",
     "exception": false,
     "start_time": "2020-09-24T18:06:23.989566",
     "status": "completed"
    },
    "tags": []
   },
   "source": [
    "Add lag values of item_cnt_month for month / item_id."
   ]
  },
  {
   "cell_type": "code",
   "execution_count": 28,
   "metadata": {
    "execution": {
     "iopub.execute_input": "2020-09-24T18:06:24.180899Z",
     "iopub.status.busy": "2020-09-24T18:06:24.179316Z",
     "iopub.status.idle": "2020-09-24T18:06:49.321216Z",
     "shell.execute_reply": "2020-09-24T18:06:49.320663Z"
    },
    "papermill": {
     "duration": 25.213194,
     "end_time": "2020-09-24T18:06:49.321335",
     "exception": false,
     "start_time": "2020-09-24T18:06:24.108141",
     "status": "completed"
    },
    "tags": []
   },
   "outputs": [
    {
     "name": "stdout",
     "output_type": "stream",
     "text": [
      "date_item_avg_item_cnt\n"
     ]
    },
    {
     "data": {
      "text/plain": [
       "29.579997539520264"
      ]
     },
     "execution_count": 28,
     "metadata": {},
     "output_type": "execute_result"
    }
   ],
   "source": [
    "ts = time.time()\n",
    "group = matrix.groupby(['date_block_num', 'item_id']).agg({'item_cnt_month': ['mean']})\n",
    "group.columns = [ 'date_item_avg_item_cnt' ]\n",
    "group.reset_index(inplace=True)\n",
    "\n",
    "matrix = pd.merge(matrix, group, on=['date_block_num','item_id'], how='left')\n",
    "matrix.date_item_avg_item_cnt = matrix['date_item_avg_item_cnt'].astype(np.float16)\n",
    "matrix = lag_feature(matrix, [1,2,3], ['date_item_avg_item_cnt'])\n",
    "matrix.drop(['date_item_avg_item_cnt'], axis=1, inplace=True)\n",
    "time.time() - ts"
   ]
  },
  {
   "cell_type": "markdown",
   "metadata": {
    "papermill": {
     "duration": 0.055668,
     "end_time": "2020-09-24T18:06:49.434177",
     "exception": false,
     "start_time": "2020-09-24T18:06:49.378509",
     "status": "completed"
    },
    "tags": []
   },
   "source": [
    "Add lag values for item_cnt_month for every month / shop combination."
   ]
  },
  {
   "cell_type": "code",
   "execution_count": 29,
   "metadata": {
    "execution": {
     "iopub.execute_input": "2020-09-24T18:06:49.560212Z",
     "iopub.status.busy": "2020-09-24T18:06:49.559207Z",
     "iopub.status.idle": "2020-09-24T18:07:15.101263Z",
     "shell.execute_reply": "2020-09-24T18:07:15.100655Z"
    },
    "papermill": {
     "duration": 25.610096,
     "end_time": "2020-09-24T18:07:15.101382",
     "exception": false,
     "start_time": "2020-09-24T18:06:49.491286",
     "status": "completed"
    },
    "tags": []
   },
   "outputs": [
    {
     "name": "stderr",
     "output_type": "stream",
     "text": [
      "C:\\Users\\tuna8\\Anaconda3_New\\envs\\DataScience\\lib\\site-packages\\ipykernel_launcher.py:7: UserWarning: Pandas doesn't allow columns to be created via a new attribute name - see https://pandas.pydata.org/pandas-docs/stable/indexing.html#attribute-access\n",
      "  import sys\n"
     ]
    },
    {
     "name": "stdout",
     "output_type": "stream",
     "text": [
      "date_shop_avg_item_cnt\n"
     ]
    },
    {
     "data": {
      "text/plain": [
       "30.053962230682373"
      ]
     },
     "execution_count": 29,
     "metadata": {},
     "output_type": "execute_result"
    }
   ],
   "source": [
    "ts = time.time()\n",
    "group = matrix.groupby( [\"date_block_num\",\"shop_id\"] ).agg({\"item_cnt_month\" : [\"mean\"]})\n",
    "group.columns = [\"date_shop_avg_item_cnt\"]\n",
    "group.reset_index(inplace = True)\n",
    "\n",
    "matrix = pd.merge(matrix, group, on = [\"date_block_num\",\"shop_id\"], how = \"left\")\n",
    "matrix.date_avg_item_cnt = matrix[\"date_shop_avg_item_cnt\"].astype(np.float16)\n",
    "matrix = lag_feature( matrix, [1,2,3], [\"date_shop_avg_item_cnt\"] )\n",
    "matrix.drop( [\"date_shop_avg_item_cnt\"], axis = 1, inplace = True )\n",
    "time.time() - ts"
   ]
  },
  {
   "cell_type": "markdown",
   "metadata": {
    "papermill": {
     "duration": 0.05741,
     "end_time": "2020-09-24T18:07:15.226092",
     "exception": false,
     "start_time": "2020-09-24T18:07:15.168682",
     "status": "completed"
    },
    "tags": []
   },
   "source": [
    "Add lag values for item_cnt_month for month/shop/item."
   ]
  },
  {
   "cell_type": "code",
   "execution_count": 30,
   "metadata": {
    "execution": {
     "iopub.execute_input": "2020-09-24T18:07:15.349708Z",
     "iopub.status.busy": "2020-09-24T18:07:15.348775Z",
     "iopub.status.idle": "2020-09-24T18:07:53.681102Z",
     "shell.execute_reply": "2020-09-24T18:07:53.681837Z"
    },
    "papermill": {
     "duration": 38.399709,
     "end_time": "2020-09-24T18:07:53.681985",
     "exception": false,
     "start_time": "2020-09-24T18:07:15.282276",
     "status": "completed"
    },
    "tags": []
   },
   "outputs": [
    {
     "name": "stderr",
     "output_type": "stream",
     "text": [
      "C:\\Users\\tuna8\\Anaconda3_New\\envs\\DataScience\\lib\\site-packages\\ipykernel_launcher.py:7: UserWarning: Pandas doesn't allow columns to be created via a new attribute name - see https://pandas.pydata.org/pandas-docs/stable/indexing.html#attribute-access\n",
      "  import sys\n"
     ]
    },
    {
     "name": "stdout",
     "output_type": "stream",
     "text": [
      "date_shop_item_avg_item_cnt\n"
     ]
    },
    {
     "data": {
      "text/plain": [
       "37.9412362575531"
      ]
     },
     "execution_count": 30,
     "metadata": {},
     "output_type": "execute_result"
    }
   ],
   "source": [
    "ts = time.time()\n",
    "group = matrix.groupby( [\"date_block_num\",\"shop_id\",\"item_id\"] ).agg({\"item_cnt_month\" : [\"mean\"]})\n",
    "group.columns = [\"date_shop_item_avg_item_cnt\"]\n",
    "group.reset_index(inplace = True)\n",
    "\n",
    "matrix = pd.merge(matrix, group, on = [\"date_block_num\",\"shop_id\",\"item_id\"], how = \"left\")\n",
    "matrix.date_avg_item_cnt = matrix[\"date_shop_item_avg_item_cnt\"].astype(np.float16)\n",
    "matrix = lag_feature( matrix, [1,2,3], [\"date_shop_item_avg_item_cnt\"] )\n",
    "matrix.drop( [\"date_shop_item_avg_item_cnt\"], axis = 1, inplace = True )\n",
    "time.time() - ts"
   ]
  },
  {
   "cell_type": "markdown",
   "metadata": {
    "papermill": {
     "duration": 0.063529,
     "end_time": "2020-09-24T18:07:53.810540",
     "exception": false,
     "start_time": "2020-09-24T18:07:53.747011",
     "status": "completed"
    },
    "tags": []
   },
   "source": [
    "Add lag values for item_cnt_month for month/shop/item subtype."
   ]
  },
  {
   "cell_type": "code",
   "execution_count": 31,
   "metadata": {
    "execution": {
     "iopub.execute_input": "2020-09-24T18:07:53.947091Z",
     "iopub.status.busy": "2020-09-24T18:07:53.946164Z",
     "iopub.status.idle": "2020-09-24T18:08:08.053691Z",
     "shell.execute_reply": "2020-09-24T18:08:08.054214Z"
    },
    "papermill": {
     "duration": 14.181912,
     "end_time": "2020-09-24T18:08:08.054378",
     "exception": false,
     "start_time": "2020-09-24T18:07:53.872466",
     "status": "completed"
    },
    "tags": []
   },
   "outputs": [
    {
     "name": "stdout",
     "output_type": "stream",
     "text": [
      "date_shop_subtype_avg_item_cnt\n"
     ]
    },
    {
     "data": {
      "text/plain": [
       "15.454002141952515"
      ]
     },
     "execution_count": 31,
     "metadata": {},
     "output_type": "execute_result"
    }
   ],
   "source": [
    "ts = time.time()\n",
    "group = matrix.groupby(['date_block_num', 'shop_id', 'subtype_code']).agg({'item_cnt_month': ['mean']})\n",
    "group.columns = ['date_shop_subtype_avg_item_cnt']\n",
    "group.reset_index(inplace=True)\n",
    "\n",
    "matrix = pd.merge(matrix, group, on=['date_block_num', 'shop_id', 'subtype_code'], how='left')\n",
    "matrix.date_shop_subtype_avg_item_cnt = matrix['date_shop_subtype_avg_item_cnt'].astype(np.float16)\n",
    "matrix = lag_feature(matrix, [1], ['date_shop_subtype_avg_item_cnt'])\n",
    "matrix.drop(['date_shop_subtype_avg_item_cnt'], axis=1, inplace=True)\n",
    "time.time() - ts"
   ]
  },
  {
   "cell_type": "markdown",
   "metadata": {
    "papermill": {
     "duration": 0.060159,
     "end_time": "2020-09-24T18:08:08.175474",
     "exception": false,
     "start_time": "2020-09-24T18:08:08.115315",
     "status": "completed"
    },
    "tags": []
   },
   "source": [
    "Add lag values for item_cnt_month for month/city."
   ]
  },
  {
   "cell_type": "code",
   "execution_count": 32,
   "metadata": {
    "execution": {
     "iopub.execute_input": "2020-09-24T18:08:08.310032Z",
     "iopub.status.busy": "2020-09-24T18:08:08.309151Z",
     "iopub.status.idle": "2020-09-24T18:08:22.387472Z",
     "shell.execute_reply": "2020-09-24T18:08:22.386795Z"
    },
    "papermill": {
     "duration": 14.149999,
     "end_time": "2020-09-24T18:08:22.387634",
     "exception": false,
     "start_time": "2020-09-24T18:08:08.237635",
     "status": "completed"
    },
    "tags": []
   },
   "outputs": [
    {
     "name": "stdout",
     "output_type": "stream",
     "text": [
      "date_city_avg_item_cnt\n"
     ]
    },
    {
     "data": {
      "text/plain": [
       "16.1089985370636"
      ]
     },
     "execution_count": 32,
     "metadata": {},
     "output_type": "execute_result"
    }
   ],
   "source": [
    "ts = time.time()\n",
    "group = matrix.groupby(['date_block_num', 'shop_city']).agg({'item_cnt_month': ['mean']})\n",
    "group.columns = ['date_city_avg_item_cnt']\n",
    "group.reset_index(inplace=True)\n",
    "\n",
    "matrix = pd.merge(matrix, group, on=['date_block_num', \"shop_city\"], how='left')\n",
    "matrix.date_city_avg_item_cnt = matrix['date_city_avg_item_cnt'].astype(np.float16)\n",
    "matrix = lag_feature(matrix, [1], ['date_city_avg_item_cnt'])\n",
    "matrix.drop(['date_city_avg_item_cnt'], axis=1, inplace=True)\n",
    "time.time() - ts"
   ]
  },
  {
   "cell_type": "markdown",
   "metadata": {
    "papermill": {
     "duration": 0.05868,
     "end_time": "2020-09-24T18:08:22.508716",
     "exception": false,
     "start_time": "2020-09-24T18:08:22.450036",
     "status": "completed"
    },
    "tags": []
   },
   "source": [
    "Add lag values for item_cnt_month for month/city/item."
   ]
  },
  {
   "cell_type": "code",
   "execution_count": 33,
   "metadata": {
    "execution": {
     "iopub.execute_input": "2020-09-24T18:08:22.635954Z",
     "iopub.status.busy": "2020-09-24T18:08:22.635108Z",
     "iopub.status.idle": "2020-09-24T18:08:44.829362Z",
     "shell.execute_reply": "2020-09-24T18:08:44.829867Z"
    },
    "papermill": {
     "duration": 22.261522,
     "end_time": "2020-09-24T18:08:44.830003",
     "exception": false,
     "start_time": "2020-09-24T18:08:22.568481",
     "status": "completed"
    },
    "tags": []
   },
   "outputs": [
    {
     "name": "stdout",
     "output_type": "stream",
     "text": [
      "date_item_city_avg_item_cnt\n"
     ]
    },
    {
     "data": {
      "text/plain": [
       "23.209998607635498"
      ]
     },
     "execution_count": 33,
     "metadata": {},
     "output_type": "execute_result"
    }
   ],
   "source": [
    "ts = time.time()\n",
    "group = matrix.groupby(['date_block_num', 'item_id', 'shop_city']).agg({'item_cnt_month': ['mean']})\n",
    "group.columns = [ 'date_item_city_avg_item_cnt' ]\n",
    "group.reset_index(inplace=True)\n",
    "\n",
    "matrix = pd.merge(matrix, group, on=['date_block_num', 'item_id', 'shop_city'], how='left')\n",
    "matrix.date_item_city_avg_item_cnt = matrix['date_item_city_avg_item_cnt'].astype(np.float16)\n",
    "matrix = lag_feature(matrix, [1], ['date_item_city_avg_item_cnt'])\n",
    "matrix.drop(['date_item_city_avg_item_cnt'], axis=1, inplace=True)\n",
    "time.time() - ts"
   ]
  },
  {
   "cell_type": "markdown",
   "metadata": {
    "papermill": {
     "duration": 0.062012,
     "end_time": "2020-09-24T18:08:44.953229",
     "exception": false,
     "start_time": "2020-09-24T18:08:44.891217",
     "status": "completed"
    },
    "tags": []
   },
   "source": [
    "* Add average item price on to matix df. \n",
    "* Add lag values of item price per month.\n",
    "* Add delta price values - how current month average pirce relates to global average."
   ]
  },
  {
   "cell_type": "code",
   "execution_count": 34,
   "metadata": {
    "execution": {
     "iopub.execute_input": "2020-09-24T18:08:45.091656Z",
     "iopub.status.busy": "2020-09-24T18:08:45.090721Z",
     "iopub.status.idle": "2020-09-24T18:13:26.574264Z",
     "shell.execute_reply": "2020-09-24T18:13:26.574763Z"
    },
    "papermill": {
     "duration": 281.560113,
     "end_time": "2020-09-24T18:13:26.574899",
     "exception": false,
     "start_time": "2020-09-24T18:08:45.014786",
     "status": "completed"
    },
    "tags": []
   },
   "outputs": [
    {
     "name": "stdout",
     "output_type": "stream",
     "text": [
      "date_item_avg_item_price\n"
     ]
    },
    {
     "data": {
      "text/plain": [
       "165.90604710578918"
      ]
     },
     "execution_count": 34,
     "metadata": {},
     "output_type": "execute_result"
    }
   ],
   "source": [
    "ts = time.time()\n",
    "group = train.groupby( [\"item_id\"] ).agg({\"item_price\": [\"mean\"]})\n",
    "group.columns = [\"item_avg_item_price\"]\n",
    "group.reset_index(inplace = True)\n",
    "\n",
    "matrix = matrix.merge( group, on = [\"item_id\"], how = \"left\" )\n",
    "matrix[\"item_avg_item_price\"] = matrix.item_avg_item_price.astype(np.float16)\n",
    "\n",
    "\n",
    "group = train.groupby( [\"date_block_num\",\"item_id\"] ).agg( {\"item_price\": [\"mean\"]} )\n",
    "group.columns = [\"date_item_avg_item_price\"]\n",
    "group.reset_index(inplace = True)\n",
    "\n",
    "matrix = matrix.merge(group, on = [\"date_block_num\",\"item_id\"], how = \"left\")\n",
    "matrix[\"date_item_avg_item_price\"] = matrix.date_item_avg_item_price.astype(np.float16)\n",
    "lags = [1, 2, 3]\n",
    "matrix = lag_feature( matrix, lags, [\"date_item_avg_item_price\"] )\n",
    "for i in lags:\n",
    "    matrix[\"delta_price_lag_\" + str(i) ] = (matrix[\"date_item_avg_item_price_lag_\" + str(i)]- matrix[\"item_avg_item_price\"] )/ matrix[\"item_avg_item_price\"]\n",
    "\n",
    "def select_trends(row) :\n",
    "    for i in lags:\n",
    "        if row[\"delta_price_lag_\" + str(i)]:\n",
    "            return row[\"delta_price_lag_\" + str(i)]\n",
    "    return 0\n",
    "\n",
    "matrix[\"delta_price_lag\"] = matrix.apply(select_trends, axis = 1)\n",
    "matrix[\"delta_price_lag\"] = matrix.delta_price_lag.astype( np.float16 )\n",
    "matrix[\"delta_price_lag\"].fillna( 0 ,inplace = True)\n",
    "\n",
    "features_to_drop = [\"item_avg_item_price\", \"date_item_avg_item_price\"]\n",
    "for i in lags:\n",
    "    features_to_drop.append(\"date_item_avg_item_price_lag_\" + str(i) )\n",
    "    features_to_drop.append(\"delta_price_lag_\" + str(i) )\n",
    "matrix.drop(features_to_drop, axis = 1, inplace = True)\n",
    "time.time() - ts"
   ]
  },
  {
   "cell_type": "markdown",
   "metadata": {
    "papermill": {
     "duration": 0.061636,
     "end_time": "2020-09-24T18:13:26.696901",
     "exception": false,
     "start_time": "2020-09-24T18:13:26.635265",
     "status": "completed"
    },
    "tags": []
   },
   "source": [
    "* Add total shop revenue per month to matix df. \n",
    "* Add lag values of revenue per month.\n",
    "* Add delta revenue values - how current month revenue relates to global average."
   ]
  },
  {
   "cell_type": "code",
   "execution_count": 35,
   "metadata": {
    "execution": {
     "iopub.execute_input": "2020-09-24T18:13:26.835445Z",
     "iopub.status.busy": "2020-09-24T18:13:26.834551Z",
     "iopub.status.idle": "2020-09-24T18:13:42.511775Z",
     "shell.execute_reply": "2020-09-24T18:13:42.512492Z"
    },
    "papermill": {
     "duration": 15.752795,
     "end_time": "2020-09-24T18:13:42.512679",
     "exception": false,
     "start_time": "2020-09-24T18:13:26.759884",
     "status": "completed"
    },
    "tags": []
   },
   "outputs": [
    {
     "name": "stdout",
     "output_type": "stream",
     "text": [
      "delta_revenue\n"
     ]
    },
    {
     "data": {
      "text/plain": [
       "19.637949228286743"
      ]
     },
     "execution_count": 35,
     "metadata": {},
     "output_type": "execute_result"
    }
   ],
   "source": [
    "ts = time.time()\n",
    "group = train.groupby( [\"date_block_num\",\"shop_id\"] ).agg({\"revenue\": [\"sum\"] })\n",
    "group.columns = [\"date_shop_revenue\"]\n",
    "group.reset_index(inplace = True)\n",
    "\n",
    "matrix = matrix.merge( group , on = [\"date_block_num\", \"shop_id\"], how = \"left\" )\n",
    "matrix['date_shop_revenue'] = matrix['date_shop_revenue'].astype(np.float32)\n",
    "\n",
    "group = group.groupby([\"shop_id\"]).agg({ \"date_block_num\":[\"mean\"] })\n",
    "group.columns = [\"shop_avg_revenue\"]\n",
    "group.reset_index(inplace = True )\n",
    "\n",
    "matrix = matrix.merge( group, on = [\"shop_id\"], how = \"left\" )\n",
    "matrix[\"shop_avg_revenue\"] = matrix.shop_avg_revenue.astype(np.float32)\n",
    "matrix[\"delta_revenue\"] = (matrix['date_shop_revenue'] - matrix['shop_avg_revenue']) / matrix['shop_avg_revenue']\n",
    "matrix[\"delta_revenue\"] = matrix[\"delta_revenue\"]. astype(np.float32)\n",
    "\n",
    "matrix = lag_feature(matrix, [1], [\"delta_revenue\"])\n",
    "matrix[\"delta_revenue_lag_1\"] = matrix[\"delta_revenue_lag_1\"].astype(np.float32)\n",
    "matrix.drop( [\"date_shop_revenue\", \"shop_avg_revenue\", \"delta_revenue\"] ,axis = 1, inplace = True)\n",
    "time.time() - ts"
   ]
  },
  {
   "cell_type": "markdown",
   "metadata": {
    "papermill": {
     "duration": 0.091134,
     "end_time": "2020-09-24T18:13:42.707850",
     "exception": false,
     "start_time": "2020-09-24T18:13:42.616716",
     "status": "completed"
    },
    "tags": []
   },
   "source": [
    "Add month and number of days in each month to matrix df."
   ]
  },
  {
   "cell_type": "code",
   "execution_count": 36,
   "metadata": {
    "execution": {
     "iopub.execute_input": "2020-09-24T18:13:42.880931Z",
     "iopub.status.busy": "2020-09-24T18:13:42.880000Z",
     "iopub.status.idle": "2020-09-24T18:13:43.213291Z",
     "shell.execute_reply": "2020-09-24T18:13:43.214585Z"
    },
    "papermill": {
     "duration": 0.426143,
     "end_time": "2020-09-24T18:13:43.214786",
     "exception": false,
     "start_time": "2020-09-24T18:13:42.788643",
     "status": "completed"
    },
    "tags": []
   },
   "outputs": [],
   "source": [
    "matrix[\"month\"] = matrix[\"date_block_num\"] % 12\n",
    "days = pd.Series([31,28,31,30,31,30,31,31,30,31,30,31])\n",
    "matrix[\"days\"] = matrix[\"month\"].map(days).astype(np.int8)"
   ]
  },
  {
   "cell_type": "markdown",
   "metadata": {
    "papermill": {
     "duration": 0.061812,
     "end_time": "2020-09-24T18:13:43.349947",
     "exception": false,
     "start_time": "2020-09-24T18:13:43.288135",
     "status": "completed"
    },
    "tags": []
   },
   "source": [
    "Add the month of each shop and item first sale."
   ]
  },
  {
   "cell_type": "code",
   "execution_count": 37,
   "metadata": {
    "execution": {
     "iopub.execute_input": "2020-09-24T18:13:43.487109Z",
     "iopub.status.busy": "2020-09-24T18:13:43.486157Z",
     "iopub.status.idle": "2020-09-24T18:13:44.881729Z",
     "shell.execute_reply": "2020-09-24T18:13:44.882225Z"
    },
    "papermill": {
     "duration": 1.470888,
     "end_time": "2020-09-24T18:13:44.882358",
     "exception": false,
     "start_time": "2020-09-24T18:13:43.411470",
     "status": "completed"
    },
    "tags": []
   },
   "outputs": [
    {
     "data": {
      "text/plain": [
       "2.6303091049194336"
      ]
     },
     "execution_count": 37,
     "metadata": {},
     "output_type": "execute_result"
    }
   ],
   "source": [
    "ts = time.time()\n",
    "matrix[\"item_shop_first_sale\"] = matrix[\"date_block_num\"] - matrix.groupby([\"item_id\",\"shop_id\"])[\"date_block_num\"].transform('min')\n",
    "matrix[\"item_first_sale\"] = matrix[\"date_block_num\"] - matrix.groupby([\"item_id\"])[\"date_block_num\"].transform('min')\n",
    "time.time() - ts"
   ]
  },
  {
   "cell_type": "markdown",
   "metadata": {
    "papermill": {
     "duration": 0.064927,
     "end_time": "2020-09-24T18:13:45.010663",
     "exception": false,
     "start_time": "2020-09-24T18:13:44.945736",
     "status": "completed"
    },
    "tags": []
   },
   "source": [
    "Delete first three months from matrix. They don't have lag values."
   ]
  },
  {
   "cell_type": "code",
   "execution_count": 38,
   "metadata": {
    "execution": {
     "iopub.execute_input": "2020-09-24T18:13:45.143160Z",
     "iopub.status.busy": "2020-09-24T18:13:45.142270Z",
     "iopub.status.idle": "2020-09-24T18:13:46.120107Z",
     "shell.execute_reply": "2020-09-24T18:13:46.120680Z"
    },
    "papermill": {
     "duration": 1.046949,
     "end_time": "2020-09-24T18:13:46.120811",
     "exception": false,
     "start_time": "2020-09-24T18:13:45.073862",
     "status": "completed"
    },
    "tags": []
   },
   "outputs": [
    {
     "data": {
      "text/plain": [
       "1.618957757949829"
      ]
     },
     "execution_count": 38,
     "metadata": {},
     "output_type": "execute_result"
    }
   ],
   "source": [
    "ts = time.time()\n",
    "matrix = matrix[matrix[\"date_block_num\"] > 3]\n",
    "time.time() - ts"
   ]
  },
  {
   "cell_type": "code",
   "execution_count": 39,
   "metadata": {
    "execution": {
     "iopub.execute_input": "2020-09-24T18:13:46.270776Z",
     "iopub.status.busy": "2020-09-24T18:13:46.255069Z",
     "iopub.status.idle": "2020-09-24T18:13:46.275574Z",
     "shell.execute_reply": "2020-09-24T18:13:46.276137Z"
    },
    "papermill": {
     "duration": 0.090382,
     "end_time": "2020-09-24T18:13:46.276270",
     "exception": false,
     "start_time": "2020-09-24T18:13:46.185888",
     "status": "completed"
    },
    "tags": []
   },
   "outputs": [
    {
     "data": {
      "text/html": [
       "<div>\n",
       "<style scoped>\n",
       "    .dataframe tbody tr th:only-of-type {\n",
       "        vertical-align: middle;\n",
       "    }\n",
       "\n",
       "    .dataframe tbody tr th {\n",
       "        vertical-align: top;\n",
       "    }\n",
       "\n",
       "    .dataframe thead th {\n",
       "        text-align: right;\n",
       "    }\n",
       "</style>\n",
       "<table border=\"1\" class=\"dataframe\">\n",
       "  <thead>\n",
       "    <tr style=\"text-align: right;\">\n",
       "      <th></th>\n",
       "      <th>1497465</th>\n",
       "      <th>1497466</th>\n",
       "      <th>1497467</th>\n",
       "      <th>1497468</th>\n",
       "      <th>1497469</th>\n",
       "    </tr>\n",
       "  </thead>\n",
       "  <tbody>\n",
       "    <tr>\n",
       "      <th>date_block_num</th>\n",
       "      <td>4.000000</td>\n",
       "      <td>4.000000</td>\n",
       "      <td>4.0</td>\n",
       "      <td>4.000000</td>\n",
       "      <td>4.000000</td>\n",
       "    </tr>\n",
       "    <tr>\n",
       "      <th>shop_id</th>\n",
       "      <td>2.000000</td>\n",
       "      <td>2.000000</td>\n",
       "      <td>2.0</td>\n",
       "      <td>2.000000</td>\n",
       "      <td>2.000000</td>\n",
       "    </tr>\n",
       "    <tr>\n",
       "      <th>item_id</th>\n",
       "      <td>27.000000</td>\n",
       "      <td>28.000000</td>\n",
       "      <td>29.0</td>\n",
       "      <td>30.000000</td>\n",
       "      <td>31.000000</td>\n",
       "    </tr>\n",
       "    <tr>\n",
       "      <th>item_cnt_month</th>\n",
       "      <td>0.000000</td>\n",
       "      <td>0.000000</td>\n",
       "      <td>0.0</td>\n",
       "      <td>0.000000</td>\n",
       "      <td>0.000000</td>\n",
       "    </tr>\n",
       "    <tr>\n",
       "      <th>shop_category</th>\n",
       "      <td>4.000000</td>\n",
       "      <td>4.000000</td>\n",
       "      <td>4.0</td>\n",
       "      <td>4.000000</td>\n",
       "      <td>4.000000</td>\n",
       "    </tr>\n",
       "    <tr>\n",
       "      <th>shop_city</th>\n",
       "      <td>0.000000</td>\n",
       "      <td>0.000000</td>\n",
       "      <td>0.0</td>\n",
       "      <td>0.000000</td>\n",
       "      <td>0.000000</td>\n",
       "    </tr>\n",
       "    <tr>\n",
       "      <th>item_category_id</th>\n",
       "      <td>19.000000</td>\n",
       "      <td>30.000000</td>\n",
       "      <td>23.0</td>\n",
       "      <td>40.000000</td>\n",
       "      <td>37.000000</td>\n",
       "    </tr>\n",
       "    <tr>\n",
       "      <th>name2</th>\n",
       "      <td>76.000000</td>\n",
       "      <td>107.000000</td>\n",
       "      <td>123.0</td>\n",
       "      <td>4.000000</td>\n",
       "      <td>4.000000</td>\n",
       "    </tr>\n",
       "    <tr>\n",
       "      <th>name3</th>\n",
       "      <td>42.000000</td>\n",
       "      <td>42.000000</td>\n",
       "      <td>42.0</td>\n",
       "      <td>42.000000</td>\n",
       "      <td>562.000000</td>\n",
       "    </tr>\n",
       "    <tr>\n",
       "      <th>subtype_code</th>\n",
       "      <td>10.000000</td>\n",
       "      <td>55.000000</td>\n",
       "      <td>16.0</td>\n",
       "      <td>4.000000</td>\n",
       "      <td>1.000000</td>\n",
       "    </tr>\n",
       "    <tr>\n",
       "      <th>type_code</th>\n",
       "      <td>3.000000</td>\n",
       "      <td>3.000000</td>\n",
       "      <td>3.0</td>\n",
       "      <td>5.000000</td>\n",
       "      <td>5.000000</td>\n",
       "    </tr>\n",
       "    <tr>\n",
       "      <th>item_cnt_month_lag_1</th>\n",
       "      <td>0.000000</td>\n",
       "      <td>0.000000</td>\n",
       "      <td>NaN</td>\n",
       "      <td>0.000000</td>\n",
       "      <td>1.000000</td>\n",
       "    </tr>\n",
       "    <tr>\n",
       "      <th>item_cnt_month_lag_2</th>\n",
       "      <td>0.000000</td>\n",
       "      <td>0.000000</td>\n",
       "      <td>NaN</td>\n",
       "      <td>1.000000</td>\n",
       "      <td>1.000000</td>\n",
       "    </tr>\n",
       "    <tr>\n",
       "      <th>item_cnt_month_lag_3</th>\n",
       "      <td>0.000000</td>\n",
       "      <td>0.000000</td>\n",
       "      <td>NaN</td>\n",
       "      <td>0.000000</td>\n",
       "      <td>4.000000</td>\n",
       "    </tr>\n",
       "    <tr>\n",
       "      <th>date_avg_item_cnt_lag_1</th>\n",
       "      <td>0.286865</td>\n",
       "      <td>0.286865</td>\n",
       "      <td>NaN</td>\n",
       "      <td>0.286865</td>\n",
       "      <td>0.286865</td>\n",
       "    </tr>\n",
       "    <tr>\n",
       "      <th>date_item_avg_item_cnt_lag_1</th>\n",
       "      <td>0.021744</td>\n",
       "      <td>0.130493</td>\n",
       "      <td>NaN</td>\n",
       "      <td>2.826172</td>\n",
       "      <td>1.260742</td>\n",
       "    </tr>\n",
       "    <tr>\n",
       "      <th>date_item_avg_item_cnt_lag_2</th>\n",
       "      <td>0.086975</td>\n",
       "      <td>0.152222</td>\n",
       "      <td>NaN</td>\n",
       "      <td>11.046875</td>\n",
       "      <td>4.781250</td>\n",
       "    </tr>\n",
       "    <tr>\n",
       "      <th>date_item_avg_item_cnt_lag_3</th>\n",
       "      <td>0.065247</td>\n",
       "      <td>0.173950</td>\n",
       "      <td>NaN</td>\n",
       "      <td>18.734375</td>\n",
       "      <td>13.648438</td>\n",
       "    </tr>\n",
       "    <tr>\n",
       "      <th>date_shop_avg_item_cnt_lag_1</th>\n",
       "      <td>0.071838</td>\n",
       "      <td>0.071838</td>\n",
       "      <td>NaN</td>\n",
       "      <td>0.071838</td>\n",
       "      <td>0.071838</td>\n",
       "    </tr>\n",
       "    <tr>\n",
       "      <th>date_shop_avg_item_cnt_lag_2</th>\n",
       "      <td>0.091064</td>\n",
       "      <td>0.091064</td>\n",
       "      <td>NaN</td>\n",
       "      <td>0.091064</td>\n",
       "      <td>0.091064</td>\n",
       "    </tr>\n",
       "    <tr>\n",
       "      <th>date_shop_avg_item_cnt_lag_3</th>\n",
       "      <td>0.059875</td>\n",
       "      <td>0.059875</td>\n",
       "      <td>NaN</td>\n",
       "      <td>0.059875</td>\n",
       "      <td>0.059875</td>\n",
       "    </tr>\n",
       "    <tr>\n",
       "      <th>date_shop_item_avg_item_cnt_lag_1</th>\n",
       "      <td>0.000000</td>\n",
       "      <td>0.000000</td>\n",
       "      <td>NaN</td>\n",
       "      <td>0.000000</td>\n",
       "      <td>1.000000</td>\n",
       "    </tr>\n",
       "    <tr>\n",
       "      <th>date_shop_item_avg_item_cnt_lag_2</th>\n",
       "      <td>0.000000</td>\n",
       "      <td>0.000000</td>\n",
       "      <td>NaN</td>\n",
       "      <td>1.000000</td>\n",
       "      <td>1.000000</td>\n",
       "    </tr>\n",
       "    <tr>\n",
       "      <th>date_shop_item_avg_item_cnt_lag_3</th>\n",
       "      <td>0.000000</td>\n",
       "      <td>0.000000</td>\n",
       "      <td>NaN</td>\n",
       "      <td>0.000000</td>\n",
       "      <td>4.000000</td>\n",
       "    </tr>\n",
       "    <tr>\n",
       "      <th>date_shop_subtype_avg_item_cnt_lag_1</th>\n",
       "      <td>0.449463</td>\n",
       "      <td>0.387207</td>\n",
       "      <td>NaN</td>\n",
       "      <td>0.018585</td>\n",
       "      <td>0.035919</td>\n",
       "    </tr>\n",
       "    <tr>\n",
       "      <th>date_city_avg_item_cnt_lag_1</th>\n",
       "      <td>0.071838</td>\n",
       "      <td>0.071838</td>\n",
       "      <td>NaN</td>\n",
       "      <td>0.071838</td>\n",
       "      <td>0.071838</td>\n",
       "    </tr>\n",
       "    <tr>\n",
       "      <th>date_item_city_avg_item_cnt_lag_1</th>\n",
       "      <td>0.000000</td>\n",
       "      <td>0.000000</td>\n",
       "      <td>NaN</td>\n",
       "      <td>0.000000</td>\n",
       "      <td>1.000000</td>\n",
       "    </tr>\n",
       "    <tr>\n",
       "      <th>delta_price_lag</th>\n",
       "      <td>0.367676</td>\n",
       "      <td>0.256348</td>\n",
       "      <td>0.0</td>\n",
       "      <td>0.212402</td>\n",
       "      <td>0.191040</td>\n",
       "    </tr>\n",
       "    <tr>\n",
       "      <th>delta_revenue_lag_1</th>\n",
       "      <td>37326.816406</td>\n",
       "      <td>37326.816406</td>\n",
       "      <td>NaN</td>\n",
       "      <td>37326.816406</td>\n",
       "      <td>37326.816406</td>\n",
       "    </tr>\n",
       "    <tr>\n",
       "      <th>month</th>\n",
       "      <td>4.000000</td>\n",
       "      <td>4.000000</td>\n",
       "      <td>4.0</td>\n",
       "      <td>4.000000</td>\n",
       "      <td>4.000000</td>\n",
       "    </tr>\n",
       "    <tr>\n",
       "      <th>days</th>\n",
       "      <td>31.000000</td>\n",
       "      <td>31.000000</td>\n",
       "      <td>31.0</td>\n",
       "      <td>31.000000</td>\n",
       "      <td>31.000000</td>\n",
       "    </tr>\n",
       "    <tr>\n",
       "      <th>item_shop_first_sale</th>\n",
       "      <td>4.000000</td>\n",
       "      <td>4.000000</td>\n",
       "      <td>4.0</td>\n",
       "      <td>3.000000</td>\n",
       "      <td>3.000000</td>\n",
       "    </tr>\n",
       "    <tr>\n",
       "      <th>item_first_sale</th>\n",
       "      <td>4.000000</td>\n",
       "      <td>4.000000</td>\n",
       "      <td>4.0</td>\n",
       "      <td>3.000000</td>\n",
       "      <td>3.000000</td>\n",
       "    </tr>\n",
       "  </tbody>\n",
       "</table>\n",
       "</div>"
      ],
      "text/plain": [
       "                                           1497465       1497466  1497467  \\\n",
       "date_block_num                            4.000000      4.000000      4.0   \n",
       "shop_id                                   2.000000      2.000000      2.0   \n",
       "item_id                                  27.000000     28.000000     29.0   \n",
       "item_cnt_month                            0.000000      0.000000      0.0   \n",
       "shop_category                             4.000000      4.000000      4.0   \n",
       "shop_city                                 0.000000      0.000000      0.0   \n",
       "item_category_id                         19.000000     30.000000     23.0   \n",
       "name2                                    76.000000    107.000000    123.0   \n",
       "name3                                    42.000000     42.000000     42.0   \n",
       "subtype_code                             10.000000     55.000000     16.0   \n",
       "type_code                                 3.000000      3.000000      3.0   \n",
       "item_cnt_month_lag_1                      0.000000      0.000000      NaN   \n",
       "item_cnt_month_lag_2                      0.000000      0.000000      NaN   \n",
       "item_cnt_month_lag_3                      0.000000      0.000000      NaN   \n",
       "date_avg_item_cnt_lag_1                   0.286865      0.286865      NaN   \n",
       "date_item_avg_item_cnt_lag_1              0.021744      0.130493      NaN   \n",
       "date_item_avg_item_cnt_lag_2              0.086975      0.152222      NaN   \n",
       "date_item_avg_item_cnt_lag_3              0.065247      0.173950      NaN   \n",
       "date_shop_avg_item_cnt_lag_1              0.071838      0.071838      NaN   \n",
       "date_shop_avg_item_cnt_lag_2              0.091064      0.091064      NaN   \n",
       "date_shop_avg_item_cnt_lag_3              0.059875      0.059875      NaN   \n",
       "date_shop_item_avg_item_cnt_lag_1         0.000000      0.000000      NaN   \n",
       "date_shop_item_avg_item_cnt_lag_2         0.000000      0.000000      NaN   \n",
       "date_shop_item_avg_item_cnt_lag_3         0.000000      0.000000      NaN   \n",
       "date_shop_subtype_avg_item_cnt_lag_1      0.449463      0.387207      NaN   \n",
       "date_city_avg_item_cnt_lag_1              0.071838      0.071838      NaN   \n",
       "date_item_city_avg_item_cnt_lag_1         0.000000      0.000000      NaN   \n",
       "delta_price_lag                           0.367676      0.256348      0.0   \n",
       "delta_revenue_lag_1                   37326.816406  37326.816406      NaN   \n",
       "month                                     4.000000      4.000000      4.0   \n",
       "days                                     31.000000     31.000000     31.0   \n",
       "item_shop_first_sale                      4.000000      4.000000      4.0   \n",
       "item_first_sale                           4.000000      4.000000      4.0   \n",
       "\n",
       "                                           1497468       1497469  \n",
       "date_block_num                            4.000000      4.000000  \n",
       "shop_id                                   2.000000      2.000000  \n",
       "item_id                                  30.000000     31.000000  \n",
       "item_cnt_month                            0.000000      0.000000  \n",
       "shop_category                             4.000000      4.000000  \n",
       "shop_city                                 0.000000      0.000000  \n",
       "item_category_id                         40.000000     37.000000  \n",
       "name2                                     4.000000      4.000000  \n",
       "name3                                    42.000000    562.000000  \n",
       "subtype_code                              4.000000      1.000000  \n",
       "type_code                                 5.000000      5.000000  \n",
       "item_cnt_month_lag_1                      0.000000      1.000000  \n",
       "item_cnt_month_lag_2                      1.000000      1.000000  \n",
       "item_cnt_month_lag_3                      0.000000      4.000000  \n",
       "date_avg_item_cnt_lag_1                   0.286865      0.286865  \n",
       "date_item_avg_item_cnt_lag_1              2.826172      1.260742  \n",
       "date_item_avg_item_cnt_lag_2             11.046875      4.781250  \n",
       "date_item_avg_item_cnt_lag_3             18.734375     13.648438  \n",
       "date_shop_avg_item_cnt_lag_1              0.071838      0.071838  \n",
       "date_shop_avg_item_cnt_lag_2              0.091064      0.091064  \n",
       "date_shop_avg_item_cnt_lag_3              0.059875      0.059875  \n",
       "date_shop_item_avg_item_cnt_lag_1         0.000000      1.000000  \n",
       "date_shop_item_avg_item_cnt_lag_2         1.000000      1.000000  \n",
       "date_shop_item_avg_item_cnt_lag_3         0.000000      4.000000  \n",
       "date_shop_subtype_avg_item_cnt_lag_1      0.018585      0.035919  \n",
       "date_city_avg_item_cnt_lag_1              0.071838      0.071838  \n",
       "date_item_city_avg_item_cnt_lag_1         0.000000      1.000000  \n",
       "delta_price_lag                           0.212402      0.191040  \n",
       "delta_revenue_lag_1                   37326.816406  37326.816406  \n",
       "month                                     4.000000      4.000000  \n",
       "days                                     31.000000     31.000000  \n",
       "item_shop_first_sale                      3.000000      3.000000  \n",
       "item_first_sale                           3.000000      3.000000  "
      ]
     },
     "execution_count": 39,
     "metadata": {},
     "output_type": "execute_result"
    }
   ],
   "source": [
    "matrix.head().T"
   ]
  },
  {
   "cell_type": "code",
   "execution_count": 40,
   "metadata": {},
   "outputs": [],
   "source": [
    "# matrix.to_pickle(\"./preprocessing_data.pkl\")"
   ]
  },
  {
   "cell_type": "markdown",
   "metadata": {},
   "source": [
    "Start Here!!"
   ]
  },
  {
   "cell_type": "code",
   "execution_count": 5,
   "metadata": {},
   "outputs": [],
   "source": [
    "data = pd.read_pickle(\"./preprocessing_data.pkl\")"
   ]
  },
  {
   "cell_type": "code",
   "execution_count": 6,
   "metadata": {},
   "outputs": [
    {
     "data": {
      "text/html": [
       "<div>\n",
       "<style scoped>\n",
       "    .dataframe tbody tr th:only-of-type {\n",
       "        vertical-align: middle;\n",
       "    }\n",
       "\n",
       "    .dataframe tbody tr th {\n",
       "        vertical-align: top;\n",
       "    }\n",
       "\n",
       "    .dataframe thead th {\n",
       "        text-align: right;\n",
       "    }\n",
       "</style>\n",
       "<table border=\"1\" class=\"dataframe\">\n",
       "  <thead>\n",
       "    <tr style=\"text-align: right;\">\n",
       "      <th></th>\n",
       "      <th>1497465</th>\n",
       "      <th>1497466</th>\n",
       "      <th>1497467</th>\n",
       "      <th>1497468</th>\n",
       "      <th>1497469</th>\n",
       "    </tr>\n",
       "  </thead>\n",
       "  <tbody>\n",
       "    <tr>\n",
       "      <th>date_block_num</th>\n",
       "      <td>4.000000</td>\n",
       "      <td>4.000000</td>\n",
       "      <td>4.0</td>\n",
       "      <td>4.000000</td>\n",
       "      <td>4.000000</td>\n",
       "    </tr>\n",
       "    <tr>\n",
       "      <th>shop_id</th>\n",
       "      <td>2.000000</td>\n",
       "      <td>2.000000</td>\n",
       "      <td>2.0</td>\n",
       "      <td>2.000000</td>\n",
       "      <td>2.000000</td>\n",
       "    </tr>\n",
       "    <tr>\n",
       "      <th>item_id</th>\n",
       "      <td>27.000000</td>\n",
       "      <td>28.000000</td>\n",
       "      <td>29.0</td>\n",
       "      <td>30.000000</td>\n",
       "      <td>31.000000</td>\n",
       "    </tr>\n",
       "    <tr>\n",
       "      <th>item_cnt_month</th>\n",
       "      <td>0.000000</td>\n",
       "      <td>0.000000</td>\n",
       "      <td>0.0</td>\n",
       "      <td>0.000000</td>\n",
       "      <td>0.000000</td>\n",
       "    </tr>\n",
       "    <tr>\n",
       "      <th>shop_category</th>\n",
       "      <td>4.000000</td>\n",
       "      <td>4.000000</td>\n",
       "      <td>4.0</td>\n",
       "      <td>4.000000</td>\n",
       "      <td>4.000000</td>\n",
       "    </tr>\n",
       "    <tr>\n",
       "      <th>shop_city</th>\n",
       "      <td>0.000000</td>\n",
       "      <td>0.000000</td>\n",
       "      <td>0.0</td>\n",
       "      <td>0.000000</td>\n",
       "      <td>0.000000</td>\n",
       "    </tr>\n",
       "    <tr>\n",
       "      <th>item_category_id</th>\n",
       "      <td>19.000000</td>\n",
       "      <td>30.000000</td>\n",
       "      <td>23.0</td>\n",
       "      <td>40.000000</td>\n",
       "      <td>37.000000</td>\n",
       "    </tr>\n",
       "    <tr>\n",
       "      <th>name2</th>\n",
       "      <td>76.000000</td>\n",
       "      <td>107.000000</td>\n",
       "      <td>123.0</td>\n",
       "      <td>4.000000</td>\n",
       "      <td>4.000000</td>\n",
       "    </tr>\n",
       "    <tr>\n",
       "      <th>name3</th>\n",
       "      <td>42.000000</td>\n",
       "      <td>42.000000</td>\n",
       "      <td>42.0</td>\n",
       "      <td>42.000000</td>\n",
       "      <td>562.000000</td>\n",
       "    </tr>\n",
       "    <tr>\n",
       "      <th>subtype_code</th>\n",
       "      <td>10.000000</td>\n",
       "      <td>55.000000</td>\n",
       "      <td>16.0</td>\n",
       "      <td>4.000000</td>\n",
       "      <td>1.000000</td>\n",
       "    </tr>\n",
       "    <tr>\n",
       "      <th>type_code</th>\n",
       "      <td>3.000000</td>\n",
       "      <td>3.000000</td>\n",
       "      <td>3.0</td>\n",
       "      <td>5.000000</td>\n",
       "      <td>5.000000</td>\n",
       "    </tr>\n",
       "    <tr>\n",
       "      <th>item_cnt_month_lag_1</th>\n",
       "      <td>0.000000</td>\n",
       "      <td>0.000000</td>\n",
       "      <td>NaN</td>\n",
       "      <td>0.000000</td>\n",
       "      <td>1.000000</td>\n",
       "    </tr>\n",
       "    <tr>\n",
       "      <th>item_cnt_month_lag_2</th>\n",
       "      <td>0.000000</td>\n",
       "      <td>0.000000</td>\n",
       "      <td>NaN</td>\n",
       "      <td>1.000000</td>\n",
       "      <td>1.000000</td>\n",
       "    </tr>\n",
       "    <tr>\n",
       "      <th>item_cnt_month_lag_3</th>\n",
       "      <td>0.000000</td>\n",
       "      <td>0.000000</td>\n",
       "      <td>NaN</td>\n",
       "      <td>0.000000</td>\n",
       "      <td>4.000000</td>\n",
       "    </tr>\n",
       "    <tr>\n",
       "      <th>date_avg_item_cnt_lag_1</th>\n",
       "      <td>0.286865</td>\n",
       "      <td>0.286865</td>\n",
       "      <td>NaN</td>\n",
       "      <td>0.286865</td>\n",
       "      <td>0.286865</td>\n",
       "    </tr>\n",
       "    <tr>\n",
       "      <th>date_item_avg_item_cnt_lag_1</th>\n",
       "      <td>0.021744</td>\n",
       "      <td>0.130493</td>\n",
       "      <td>NaN</td>\n",
       "      <td>2.826172</td>\n",
       "      <td>1.260742</td>\n",
       "    </tr>\n",
       "    <tr>\n",
       "      <th>date_item_avg_item_cnt_lag_2</th>\n",
       "      <td>0.086975</td>\n",
       "      <td>0.152222</td>\n",
       "      <td>NaN</td>\n",
       "      <td>11.046875</td>\n",
       "      <td>4.781250</td>\n",
       "    </tr>\n",
       "    <tr>\n",
       "      <th>date_item_avg_item_cnt_lag_3</th>\n",
       "      <td>0.065247</td>\n",
       "      <td>0.173950</td>\n",
       "      <td>NaN</td>\n",
       "      <td>18.734375</td>\n",
       "      <td>13.648438</td>\n",
       "    </tr>\n",
       "    <tr>\n",
       "      <th>date_shop_avg_item_cnt_lag_1</th>\n",
       "      <td>0.071838</td>\n",
       "      <td>0.071838</td>\n",
       "      <td>NaN</td>\n",
       "      <td>0.071838</td>\n",
       "      <td>0.071838</td>\n",
       "    </tr>\n",
       "    <tr>\n",
       "      <th>date_shop_avg_item_cnt_lag_2</th>\n",
       "      <td>0.091064</td>\n",
       "      <td>0.091064</td>\n",
       "      <td>NaN</td>\n",
       "      <td>0.091064</td>\n",
       "      <td>0.091064</td>\n",
       "    </tr>\n",
       "    <tr>\n",
       "      <th>date_shop_avg_item_cnt_lag_3</th>\n",
       "      <td>0.059875</td>\n",
       "      <td>0.059875</td>\n",
       "      <td>NaN</td>\n",
       "      <td>0.059875</td>\n",
       "      <td>0.059875</td>\n",
       "    </tr>\n",
       "    <tr>\n",
       "      <th>date_shop_item_avg_item_cnt_lag_1</th>\n",
       "      <td>0.000000</td>\n",
       "      <td>0.000000</td>\n",
       "      <td>NaN</td>\n",
       "      <td>0.000000</td>\n",
       "      <td>1.000000</td>\n",
       "    </tr>\n",
       "    <tr>\n",
       "      <th>date_shop_item_avg_item_cnt_lag_2</th>\n",
       "      <td>0.000000</td>\n",
       "      <td>0.000000</td>\n",
       "      <td>NaN</td>\n",
       "      <td>1.000000</td>\n",
       "      <td>1.000000</td>\n",
       "    </tr>\n",
       "    <tr>\n",
       "      <th>date_shop_item_avg_item_cnt_lag_3</th>\n",
       "      <td>0.000000</td>\n",
       "      <td>0.000000</td>\n",
       "      <td>NaN</td>\n",
       "      <td>0.000000</td>\n",
       "      <td>4.000000</td>\n",
       "    </tr>\n",
       "    <tr>\n",
       "      <th>date_shop_subtype_avg_item_cnt_lag_1</th>\n",
       "      <td>0.449463</td>\n",
       "      <td>0.387207</td>\n",
       "      <td>NaN</td>\n",
       "      <td>0.018585</td>\n",
       "      <td>0.035919</td>\n",
       "    </tr>\n",
       "    <tr>\n",
       "      <th>date_city_avg_item_cnt_lag_1</th>\n",
       "      <td>0.071838</td>\n",
       "      <td>0.071838</td>\n",
       "      <td>NaN</td>\n",
       "      <td>0.071838</td>\n",
       "      <td>0.071838</td>\n",
       "    </tr>\n",
       "    <tr>\n",
       "      <th>date_item_city_avg_item_cnt_lag_1</th>\n",
       "      <td>0.000000</td>\n",
       "      <td>0.000000</td>\n",
       "      <td>NaN</td>\n",
       "      <td>0.000000</td>\n",
       "      <td>1.000000</td>\n",
       "    </tr>\n",
       "    <tr>\n",
       "      <th>delta_price_lag</th>\n",
       "      <td>0.367676</td>\n",
       "      <td>0.256348</td>\n",
       "      <td>0.0</td>\n",
       "      <td>0.212402</td>\n",
       "      <td>0.191040</td>\n",
       "    </tr>\n",
       "    <tr>\n",
       "      <th>delta_revenue_lag_1</th>\n",
       "      <td>37326.816406</td>\n",
       "      <td>37326.816406</td>\n",
       "      <td>NaN</td>\n",
       "      <td>37326.816406</td>\n",
       "      <td>37326.816406</td>\n",
       "    </tr>\n",
       "    <tr>\n",
       "      <th>month</th>\n",
       "      <td>4.000000</td>\n",
       "      <td>4.000000</td>\n",
       "      <td>4.0</td>\n",
       "      <td>4.000000</td>\n",
       "      <td>4.000000</td>\n",
       "    </tr>\n",
       "    <tr>\n",
       "      <th>days</th>\n",
       "      <td>31.000000</td>\n",
       "      <td>31.000000</td>\n",
       "      <td>31.0</td>\n",
       "      <td>31.000000</td>\n",
       "      <td>31.000000</td>\n",
       "    </tr>\n",
       "    <tr>\n",
       "      <th>item_shop_first_sale</th>\n",
       "      <td>4.000000</td>\n",
       "      <td>4.000000</td>\n",
       "      <td>4.0</td>\n",
       "      <td>3.000000</td>\n",
       "      <td>3.000000</td>\n",
       "    </tr>\n",
       "    <tr>\n",
       "      <th>item_first_sale</th>\n",
       "      <td>4.000000</td>\n",
       "      <td>4.000000</td>\n",
       "      <td>4.0</td>\n",
       "      <td>3.000000</td>\n",
       "      <td>3.000000</td>\n",
       "    </tr>\n",
       "  </tbody>\n",
       "</table>\n",
       "</div>"
      ],
      "text/plain": [
       "                                           1497465       1497466  1497467  \\\n",
       "date_block_num                            4.000000      4.000000      4.0   \n",
       "shop_id                                   2.000000      2.000000      2.0   \n",
       "item_id                                  27.000000     28.000000     29.0   \n",
       "item_cnt_month                            0.000000      0.000000      0.0   \n",
       "shop_category                             4.000000      4.000000      4.0   \n",
       "shop_city                                 0.000000      0.000000      0.0   \n",
       "item_category_id                         19.000000     30.000000     23.0   \n",
       "name2                                    76.000000    107.000000    123.0   \n",
       "name3                                    42.000000     42.000000     42.0   \n",
       "subtype_code                             10.000000     55.000000     16.0   \n",
       "type_code                                 3.000000      3.000000      3.0   \n",
       "item_cnt_month_lag_1                      0.000000      0.000000      NaN   \n",
       "item_cnt_month_lag_2                      0.000000      0.000000      NaN   \n",
       "item_cnt_month_lag_3                      0.000000      0.000000      NaN   \n",
       "date_avg_item_cnt_lag_1                   0.286865      0.286865      NaN   \n",
       "date_item_avg_item_cnt_lag_1              0.021744      0.130493      NaN   \n",
       "date_item_avg_item_cnt_lag_2              0.086975      0.152222      NaN   \n",
       "date_item_avg_item_cnt_lag_3              0.065247      0.173950      NaN   \n",
       "date_shop_avg_item_cnt_lag_1              0.071838      0.071838      NaN   \n",
       "date_shop_avg_item_cnt_lag_2              0.091064      0.091064      NaN   \n",
       "date_shop_avg_item_cnt_lag_3              0.059875      0.059875      NaN   \n",
       "date_shop_item_avg_item_cnt_lag_1         0.000000      0.000000      NaN   \n",
       "date_shop_item_avg_item_cnt_lag_2         0.000000      0.000000      NaN   \n",
       "date_shop_item_avg_item_cnt_lag_3         0.000000      0.000000      NaN   \n",
       "date_shop_subtype_avg_item_cnt_lag_1      0.449463      0.387207      NaN   \n",
       "date_city_avg_item_cnt_lag_1              0.071838      0.071838      NaN   \n",
       "date_item_city_avg_item_cnt_lag_1         0.000000      0.000000      NaN   \n",
       "delta_price_lag                           0.367676      0.256348      0.0   \n",
       "delta_revenue_lag_1                   37326.816406  37326.816406      NaN   \n",
       "month                                     4.000000      4.000000      4.0   \n",
       "days                                     31.000000     31.000000     31.0   \n",
       "item_shop_first_sale                      4.000000      4.000000      4.0   \n",
       "item_first_sale                           4.000000      4.000000      4.0   \n",
       "\n",
       "                                           1497468       1497469  \n",
       "date_block_num                            4.000000      4.000000  \n",
       "shop_id                                   2.000000      2.000000  \n",
       "item_id                                  30.000000     31.000000  \n",
       "item_cnt_month                            0.000000      0.000000  \n",
       "shop_category                             4.000000      4.000000  \n",
       "shop_city                                 0.000000      0.000000  \n",
       "item_category_id                         40.000000     37.000000  \n",
       "name2                                     4.000000      4.000000  \n",
       "name3                                    42.000000    562.000000  \n",
       "subtype_code                              4.000000      1.000000  \n",
       "type_code                                 5.000000      5.000000  \n",
       "item_cnt_month_lag_1                      0.000000      1.000000  \n",
       "item_cnt_month_lag_2                      1.000000      1.000000  \n",
       "item_cnt_month_lag_3                      0.000000      4.000000  \n",
       "date_avg_item_cnt_lag_1                   0.286865      0.286865  \n",
       "date_item_avg_item_cnt_lag_1              2.826172      1.260742  \n",
       "date_item_avg_item_cnt_lag_2             11.046875      4.781250  \n",
       "date_item_avg_item_cnt_lag_3             18.734375     13.648438  \n",
       "date_shop_avg_item_cnt_lag_1              0.071838      0.071838  \n",
       "date_shop_avg_item_cnt_lag_2              0.091064      0.091064  \n",
       "date_shop_avg_item_cnt_lag_3              0.059875      0.059875  \n",
       "date_shop_item_avg_item_cnt_lag_1         0.000000      1.000000  \n",
       "date_shop_item_avg_item_cnt_lag_2         1.000000      1.000000  \n",
       "date_shop_item_avg_item_cnt_lag_3         0.000000      4.000000  \n",
       "date_shop_subtype_avg_item_cnt_lag_1      0.018585      0.035919  \n",
       "date_city_avg_item_cnt_lag_1              0.071838      0.071838  \n",
       "date_item_city_avg_item_cnt_lag_1         0.000000      1.000000  \n",
       "delta_price_lag                           0.212402      0.191040  \n",
       "delta_revenue_lag_1                   37326.816406  37326.816406  \n",
       "month                                     4.000000      4.000000  \n",
       "days                                     31.000000     31.000000  \n",
       "item_shop_first_sale                      3.000000      3.000000  \n",
       "item_first_sale                           3.000000      3.000000  "
      ]
     },
     "execution_count": 6,
     "metadata": {},
     "output_type": "execute_result"
    }
   ],
   "source": [
    "data.head().T"
   ]
  }
 ],
 "metadata": {
  "kernelspec": {
   "display_name": "Python 3",
   "language": "python",
   "name": "python3"
  },
  "language_info": {
   "codemirror_mode": {
    "name": "ipython",
    "version": 3
   },
   "file_extension": ".py",
   "mimetype": "text/x-python",
   "name": "python",
   "nbconvert_exporter": "python",
   "pygments_lexer": "ipython3",
   "version": "3.7.9"
  },
  "papermill": {
   "duration": 3436.315792,
   "end_time": "2020-09-24T19:02:23.658509",
   "environment_variables": {},
   "exception": null,
   "input_path": "__notebook__.ipynb",
   "output_path": "__notebook__.ipynb",
   "parameters": {},
   "start_time": "2020-09-24T18:05:07.342717",
   "version": "2.1.0"
  }
 },
 "nbformat": 4,
 "nbformat_minor": 4
}
